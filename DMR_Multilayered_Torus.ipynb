{
  "nbformat": 4,
  "nbformat_minor": 0,
  "metadata": {
    "colab": {
      "name": "DMR_Multilayered_Domain.ipynb",
      "version": "0.3.2",
      "provenance": [],
      "collapsed_sections": [
        "vS_YdSbqFOln",
        "9SJXe6I5JUwF",
        "r6GW2fwLE042",
        "pfryWRtY-FU-"
      ],
      "toc_visible": true,
      "include_colab_link": true
    },
    "kernelspec": {
      "name": "python3",
      "display_name": "Python 3"
    },
    "accelerator": "GPU"
  },
  "cells": [
    {
      "cell_type": "markdown",
      "metadata": {
        "id": "view-in-github",
        "colab_type": "text"
      },
      "source": [
        "<a href=\"https://colab.research.google.com/github/van-dang/FEniCS-Colab/blob/master/DMR_Multilayered_Torus.ipynb\" target=\"_parent\"><img src=\"https://colab.research.google.com/assets/colab-badge.svg\" alt=\"Open In Colab\"/></a>"
      ]
    },
    {
      "metadata": {
        "id": "vS_YdSbqFOln",
        "colab_type": "text"
      },
      "cell_type": "markdown",
      "source": [
        "# About the code"
      ]
    },
    {
      "metadata": {
        "id": "CiQ9r51xKgWh",
        "colab_type": "code",
        "colab": {}
      },
      "cell_type": "code",
      "source": [
        "# This demo solves the Bloch-Torrey equation applied to computational diffusion MRI using \n",
        "# the finite element method coupled with the theta-method for the spatial discretization.\n",
        "\n",
        "# The scope of usage: \n",
        "# (1) multilayered structures, (2) membrane permeability, (3) pure homogeneous Neumann \n",
        "\n",
        "# Copyright (C) 2017 Van-Dang Nguyen (vdnguyen@kth.se)\n",
        "\n",
        "# This file is part of DOLFIN.\n",
        "\n",
        "# DOLFIN is free software: you can redistribute it and/or modify\n",
        "# it under the terms of the GNU Lesser General Public License as published by\n",
        "# the Free Software Foundation, either version 3 of the License, or\n",
        "# (at your option) any later version.\n",
        "\n",
        "# DOLFIN is distributed in the hope that it will be useful,\n",
        "# but WITHOUT ANY WARRANTY; without even the implied warranty of\n",
        "# MERCHANTABILITY or FITNESS FOR A PARTICULAR PURPOSE. See the\n",
        "# GNU Lesser General Public License for more details.\n",
        "\n",
        "# You should have received a copy of the GNU Lesser General Public License\n",
        "# along with DOLFIN. If not, see <http://www.gnu.org/licenses/>.\n",
        "\n",
        "# First added:  2017-10-10\n",
        "# Last changed: 2017-11-18\n",
        "\n",
        "# This demo is maintained by Van-Dang Nguyen\n",
        "# Please report problems to vdnguyen@kth.se"
      ],
      "execution_count": 0,
      "outputs": []
    },
    {
      "metadata": {
        "id": "9SJXe6I5JUwF",
        "colab_type": "text"
      },
      "cell_type": "markdown",
      "source": [
        "# Setting a working environment with FEniCS"
      ]
    },
    {
      "metadata": {
        "id": "4jWzVxURFVLj",
        "colab_type": "code",
        "outputId": "f39621e5-b1f3-4a04-abf3-3b5bd7528541",
        "colab": {
          "base_uri": "https://localhost:8080/",
          "height": 63
        }
      },
      "cell_type": "code",
      "source": [
        "from google.colab import files\n",
        "\n",
        "import platform, sys\n",
        "python_version=platform.python_version()\n",
        "from distutils.version import LooseVersion, StrictVersion\n",
        "\n",
        "if ( LooseVersion(python_version) < LooseVersion(\"3.0.0\")):\n",
        "    print(\"Python3 is needed!\");\n",
        "    print(\"How to fix: Runtime/Change_runtime_type/Python 3\");\n",
        "    sys.exit()\n",
        "    \n",
        "try:\n",
        "    from dolfin import *; from mshr import *\n",
        "except ImportError as e:\n",
        "    !apt-get install -y -qq software-properties-common python-software-properties module-init-tools\n",
        "    !add-apt-repository -y ppa:fenics-packages/fenics\n",
        "    !apt-get update -qq\n",
        "    !apt install -y --no-install-recommends fenics\n",
        "    from dolfin import *; from mshr import *\n",
        "    \n",
        "import matplotlib.pyplot as plt;\n",
        "from IPython.display import clear_output, display; import time; import dolfin.common.plotting as fenicsplot \n",
        "import time\n",
        "\n",
        "import os, sys, shutil\n",
        "\n",
        "dolfin_version = dolfin.__version__\n",
        "print ('dolfin version:', dolfin_version)\n",
        "\n",
        "!rm -rf * # clean up all files\n",
        "# Useful commands\n",
        "# Remove an empty folder      : os.rmdir(\"my_results\")\n",
        "# Remove a folder with files  : shutil.rmtree(\"results\")\n",
        "# Make a folder               : os.mkdir(\"my_results\")\n",
        "# Runtime/Change_runtime_type/Python3"
      ],
      "execution_count": 2,
      "outputs": [
        {
          "output_type": "stream",
          "text": [
            "dolfin version: 2018.1.0\n"
          ],
          "name": "stdout"
        }
      ]
    },
    {
      "metadata": {
        "id": "r6GW2fwLE042",
        "colab_type": "text"
      },
      "cell_type": "markdown",
      "source": [
        "# Define a mesh"
      ]
    },
    {
      "metadata": {
        "id": "ksCOgH6e6d8e",
        "colab_type": "code",
        "outputId": "e70de5d8-6f89-42e7-8a86-f91f835694a7",
        "colab": {
          "base_uri": "https://localhost:8080/",
          "height": 301
        }
      },
      "cell_type": "code",
      "source": [
        "# # # # # # # # Create .geo file for gmsh # # # # # # # #\n",
        "\n",
        "R=[5, 7.5, 10.];\n",
        "\n",
        "geo_file = open(\"multi_layer_torus.geo\", \"w\")\n",
        "\n",
        "geo_file.write(\"i = 0;\\n\")\n",
        "geo_file.write(\"N = 6;\\n\")\n",
        "geo_file.write(\"lc = 2.0;\\n\")\n",
        "\n",
        "geo_file.write(\"L = 20.0;\\n\")\n",
        "\n",
        "geo_file.write(\"xc[]={0,-L,0};\\n\")\n",
        "\n",
        "geo_file.write(\"Point(1) = {xc[0], xc[1], xc[2], \tlc};\\n\")\n",
        "geo_file.write(\"R[] = {\");\n",
        "for ir in range(0,len(R)-1):\n",
        "    geo_file.write(str(R[ir])+\",\")\n",
        "geo_file.write(str(R[len(R)-1])+\"};\\n\")\n",
        "geo_file.write(\"ncomp = #R[];\\n\")\n",
        "geo_file.write(\"nlayers = 20;\\n\")\n",
        "\n",
        "geo_file.write(\"For comp In {0:(ncomp-1)}\\n\")\n",
        "geo_file.write(\"  r = R[comp];\\n\")\n",
        "geo_file.write(\"  Point(2+i) = {xc[0], r+xc[1], xc[2], \tlc};\\n\")\n",
        "geo_file.write(\"  Point(3+i) = {xc[0], xc[1], r+xc[2], \tlc};\\n\")\n",
        "geo_file.write(\"  Point(4+i) = {xc[0], xc[1], -r+xc[2], \tlc};\\n\")\n",
        "geo_file.write(\"  Point(5+i) = {xc[0], -r+xc[1], xc[2], \tlc};\\n\")\n",
        "\n",
        "geo_file.write(\"  Circle(1+i) = {2+i, 1, 4+i};\\n\")\n",
        "geo_file.write(\"  Circle(2+i) = {4+i, 1, 5+i};\\n\")\n",
        "geo_file.write(\"  Circle(3+i) = {5+i, 1, 3+i};\\n\")\n",
        "geo_file.write(\"  Circle(4+i) = {3+i, 1, 2+i};\\n\")\n",
        "geo_file.write(\"  Line Loop(1+i) = {1+i, 2+i, 3+i, 4+i};\\n\")\n",
        "geo_file.write(\"  i += N;\\n\")\n",
        "geo_file.write(\"EndFor\\n\")\n",
        "\n",
        "geo_file.write(\"Plane Surface(1) = {1};\")\n",
        "geo_file.write(\"out[] = Extrude { { 0,0,1 }, { 0,0,0 }, 2*Pi/3 } { Surface{1}; Layers{nlayers}; };\\n\")\n",
        "geo_file.write(\"out[] = Extrude { { 0,0,1 }, { 0,0,0 }, 2*Pi/3 } { Surface{out[0]}; Layers{nlayers}; };\\n\")\n",
        "geo_file.write(\"out[] = Extrude { { 0,0,1 }, { 0,0,0 }, 2*Pi/3 } { Surface{out[0]}; Layers{nlayers}; };\\n\")\n",
        "\n",
        "geo_file.write(\"i = 0;\\n\")\n",
        "geo_file.write(\"For r In {1:(ncomp-1)}\\n\")\n",
        "geo_file.write(\"  Plane Surface(2+i) = {1+i*N, 1+(i+1)*N};\\n\")\n",
        "geo_file.write(\"  out[] = Extrude { { 0,0,1 }, { 0,0,0 }, 2*Pi/3 } { Surface{2+i}; Layers{nlayers}; };\\n\")\n",
        "geo_file.write(\"  out[] = Extrude { { 0,0,1 }, { 0,0,0 }, 2*Pi/3 } { Surface{out[0]}; Layers{nlayers}; };\\n\")\n",
        "geo_file.write(\"  out[] = Extrude { { 0,0,1 }, { 0,0,0 }, 2*Pi/3 } { Surface{out[0]}; Layers{nlayers}; };\\n\")\n",
        "geo_file.write(\"  i += 1;\\n\")\n",
        "geo_file.write(\"EndFor\\n\")\n",
        "\n",
        "geo_file.write(\"Mesh 3;\\n\")\n",
        "geo_file.write(\"Coherence Mesh;\\n\")\n",
        "\n",
        "geo_file.close()\n",
        "\n",
        "\n",
        "# # # # # # # # # # Run with Gmsh # # # # # # # # # # # #\n",
        "!apt-get install gmsh\n",
        "!gmsh --version\n",
        "!gmsh -v 0 -3 multi_layer_torus.geo -o multi_layer_torus.msh\n",
        "!dolfin-convert multi_layer_torus.msh multi_layer_torus.xml\n",
        "# Save to your local computer\n",
        "#from google.colab import files\n",
        "#files.download('multi_layer_torus.msh')\n",
        "\n",
        "# # # # # # # # # # Convert mesh by meshio # # # # # # # # \n",
        "# !pip install -U meshio\n",
        "# !apt-get install python-lxml\n",
        "# !meshio-convert multi_layer_torus.msh multi_layer_torus.vtu"
      ],
      "execution_count": 4,
      "outputs": [
        {
          "output_type": "stream",
          "text": [
            "Reading package lists... Done\n",
            "Building dependency tree       \n",
            "Reading state information... Done\n",
            "gmsh is already the newest version (3.0.6+dfsg1-1).\n",
            "The following package was automatically installed and is no longer required:\n",
            "  libnvidia-common-410\n",
            "Use 'apt autoremove' to remove it.\n",
            "0 upgraded, 0 newly installed, 0 to remove and 111 not upgraded.\n",
            "3.0.6\n",
            "Converting from Gmsh format (.msh, .gmsh) to DOLFIN XML format\n",
            "Expecting 8160 vertices\n",
            "Found all vertices\n",
            "Expecting 42840 cells\n",
            "Found all cells\n",
            "Conversion done\n"
          ],
          "name": "stdout"
        }
      ]
    },
    {
      "metadata": {
        "id": "pfryWRtY-FU-",
        "colab_type": "text"
      },
      "cell_type": "markdown",
      "source": [
        "# Setup phase-function for multilyered structures"
      ]
    },
    {
      "metadata": {
        "id": "eaxy_-rr9-SY",
        "colab_type": "code",
        "colab": {}
      },
      "cell_type": "code",
      "source": [
        "mesh = Mesh(\"multi_layer_torus.xml\");\n",
        "\n",
        "gdim = mesh.geometry().dim()\n",
        "\n",
        "\n",
        "V_DG = FunctionSpace(mesh, 'DG', 0)\n",
        "dofmap_DG = V_DG.dofmap()\n",
        "phase = Function(V_DG)\n",
        "cellmarker = MeshFunction(\"size_t\", mesh, mesh.topology().dim())\n",
        "\n",
        "L = 20.;\n",
        "for cell in cells(mesh):\n",
        "    p = cell.midpoint();\n",
        "    d = (L-sqrt(p.x()*p.x()+p.y()*p.y()))**2+p.z()*p.z()\n",
        "    for i in range(0, len(R)):\n",
        "        if d<R[i]*R[i]:\n",
        "            phase.vector()[dofmap_DG.cell_dofs(cell.index())] = i%2;\n",
        "            cellmarker[cell.index()] = i%2;\n",
        "            break;\n",
        "\n",
        "# plot(mesh);\n",
        "# plot(cellmarker, cmap=\"coolwarm\");\n",
        "mesh0 = SubMesh(mesh, cellmarker, 0)\n",
        "mesh1 = SubMesh(mesh, cellmarker, 1)\n",
        "File(\"Phase.pvd\")<<phase\n",
        "File(\"mesh0.xml\")<<mesh0\n",
        "File(\"mesh1.xml\")<<mesh1\n"
      ],
      "execution_count": 0,
      "outputs": []
    },
    {
      "metadata": {
        "id": "vR0qSxavFNzl",
        "colab_type": "text"
      },
      "cell_type": "markdown",
      "source": [
        "# Define parameters"
      ]
    },
    {
      "metadata": {
        "id": "E7kARxlvFSRI",
        "colab_type": "code",
        "colab": {}
      },
      "cell_type": "code",
      "source": [
        "bvalue = 4000;             # bvalue\n",
        "delta, Delta = 40000, 40000 # PGSE sequence\n",
        "g0, g1, g2 = 1, 0, 0;       # gradient direction\n",
        "theta = 0.5;                # theta=0.5: midpoint method\n",
        "K = 3e-3;                   # Diffusion coefficient\n",
        "kappa = 5e-5                # Permeability\n",
        "nskip = 5;                  # Output frequency (for visualization only)\n",
        "porder = 1;                 # order of basis functions of FEM\n",
        "Nsteps = 200;               # number of time intervals"
      ],
      "execution_count": 0,
      "outputs": []
    },
    {
      "metadata": {
        "id": "aFEvif9PF2yH",
        "colab_type": "text"
      },
      "cell_type": "markdown",
      "source": [
        "# Solve the Bloch-Torrey equation"
      ]
    },
    {
      "metadata": {
        "id": "DYZ5SWlw69tQ",
        "colab_type": "code",
        "outputId": "43c03659-44c3-454a-b032-8975363c96da",
        "colab": {
          "base_uri": "https://localhost:8080/",
          "height": 1418
        }
      },
      "cell_type": "code",
      "source": [
        "if (Delta-delta/3.0<=0):\n",
        "    print('Check time sequence!');\n",
        "    exit(0);\n",
        "gnorm = sqrt(bvalue)/sqrt(delta*delta*(Delta-delta/3.0));\n",
        "t, T = 0, Delta+delta;\n",
        "\n",
        "#################################################################################\n",
        "# FUNCTION SPACES\n",
        "if dolfin_version=='1.6.0':\n",
        "    V = FunctionSpace(mesh , \"CG\", porder);\n",
        "    W = MixedFunctionSpace([V, V, V, V])\n",
        "else:\n",
        "    # For FEniCS 2016, 2017\n",
        "    Ve = FiniteElement(\"CG\", mesh.ufl_cell(), porder)\n",
        "    TH = MixedElement([Ve,Ve,Ve,Ve])\n",
        "    V = FunctionSpace(mesh,Ve);\n",
        "    W = FunctionSpace(mesh, TH)\n",
        "\n",
        "v = TestFunction(W)\n",
        "v0r, v0i, v1r, v1i = v[0], v[1], v[2], v[3]\n",
        "\n",
        "w = TrialFunction(W);\n",
        "u0r, u0i, u1r, u1i = w[0], w[1], w[2], w[3]\n",
        "#################################################################################\n",
        "\n",
        "#################################################################################\n",
        "# Initial conditions\n",
        "one = Function(V);\n",
        "one.vector()[:] = 1.0;\n",
        "u_0 = Function(W);\n",
        "assign(u_0.sub(0), one)\n",
        "assign(u_0.sub(2), one)\n",
        "u0r_0, u0i_0, u1r_0, u1i_0 = u_0[0], u_0[1], u_0[2], u_0[3]\n",
        "#################################################################################\n",
        "\n",
        "if (gdim==2):\n",
        "  GX=Expression(\"x[0]*g0+x[1]*g1\", g0=g0, g1=g1, domain=mesh, degree=3);\n",
        "if (gdim==3):\n",
        "  GX=Expression(\"x[0]*g0+x[1]*g1+x[2]*g2\", g0=g0, g1=g1, g2=g2, domain=mesh, degree=3);\n",
        "\n",
        "#################################\n",
        "## output files \n",
        "file_u0r = File(\"results/u0r.pvd\")\n",
        "file_u0i = File(\"results/u0i.pvd\")\n",
        "file_u1r = File(\"results/u1r.pvd\")\n",
        "file_u1i = File(\"results/u1i.pvd\")\n",
        "#################################\n",
        "\n",
        "def FuncF(ft, gnorm, GX, ur, ui, vr, vi, K):\n",
        "    Fr = ft*gnorm*GX*ui*vr - K*inner(grad(ur), grad(vr))\n",
        "    Fi = - ft*gnorm*GX*ur*vi - K*inner(grad(ui), grad(vi))\n",
        "    return Fr + Fi\n",
        "  \n",
        "def icondition(kappa, u0rm, u1rm, v0r, v1r, u0im, u1im, v0i, v1i):\n",
        "    F_bcr = kappa*(u0rm-u1rm)*(v0r-v1r)\n",
        "    F_bci = kappa*(u0im-u1im)*(v0i-v1i)\n",
        "    return F_bcr + F_bci\n",
        "\n",
        "def SubMeshSave(ur, ui, file_ur, file_ui, mesh, n, stepcounter, dolfin_version):\n",
        "  if dolfin_version=='1.6.0':\n",
        "    V = FunctionSpace(mesh, \"CG\", porder)\n",
        "  else:\n",
        "    # For FEniCS 2016, 2017\n",
        "    Ve = FiniteElement(\"CG\", mesh.ufl_cell(), porder)\n",
        "    V = FunctionSpace(mesh, Ve)\n",
        "  if stepcounter % n == 0:\n",
        "    ur_p = project(ur, V);\n",
        "    ui_p = project(ui, V);\n",
        "    ur_p.rename(\"Real\", \"label\");\n",
        "    ui_p.rename(\"Imag\", \"label\");\n",
        "    file_ur << ur_p;\n",
        "    file_ui << ui_p;\n",
        "\n",
        "def ieval(u,omega, phase):\n",
        "  if omega==1:\n",
        "    return u('+')*phase('+') + u('-')*phase('-');\n",
        "  if omega==0:\n",
        "    return u('+')*(1.-phase('+')) + u('-')*(1.-phase('-'))                      \n",
        "  \n",
        "def FT(t, delta, Delta):\n",
        "    ft1 = 1.0*(t>=0 and t<delta) \n",
        "    ft2 = -1.0*(t>=Delta and t<=Delta+delta);\n",
        "    return ft1 + ft2;  \n",
        "  \n",
        "stepcounter = 0;\n",
        "\n",
        "def ThetaMethod_L(ft, gnorm, GX, u0r, u0i, v0r, v0i, u1r, u1i, v1r, v1i, u0r_0, u0i_0, u1r_0, u1i_0,k, kappa, K, theta, phase):\n",
        "    L0 = (u0r_0/k*v0r + u0i_0/k*v0i+(1-theta)*FuncF(ft, gnorm, GX, u0r_0, u0i_0, v0r, v0i, K))*(1-phase)*dx\n",
        "    L1 = (u1r_0/k*v1r +u1i_0/k*v1i+(1-theta)*FuncF(ft, gnorm, GX, u1r_0, u1i_0, v1r, v1i, K))*phase*dx\n",
        "    L_bc = avg((1-theta)*icondition(kappa, u0r_0, u1r_0, v0r, v1r, u0i_0, u1i_0, v0i, v1i))*abs(jump(phase))*dS;\n",
        "    return L0+L1-L_bc\n",
        "\n",
        "\n",
        "def ThetaMethod_a(ft, gnorm, GX, u0r, u0i, v0r, v0i, u1r, u1i, v1r, v1i, u0r_0, u0i_0, u1r_0, u1i_0,k,kappa, K, theta, phase):\n",
        "    a0 = (u0r/k*v0r   + u0i/k*v0i  -theta*FuncF(ft, gnorm, GX, u0r  , u0i  , v0r, v0i, K))*(1-phase)*dx\n",
        "    a1 = (u1r/k*v1r   + u1i/k*v1i  -theta*FuncF(ft, gnorm, GX, u1r  , u1i  , v1r, v1i, K))*phase*dx\n",
        "    a_bc = avg(  (theta*icondition(kappa, u0r  , u1r  , v0r, v1r, u0i  , u1i  , v0i, v1i)))*abs(jump(phase))*dS;\n",
        "    return a0+a1+a_bc\n",
        "\n",
        "\n",
        "def NoTimeMatrices(u0r, u0i, v0r, v0i, u1r, u1i, v1r, v1i, K, GX, kappa, theta, phase):\n",
        "    m0 = (u0r*v0r   + u0i*v0i)*(1-phase)*dx\n",
        "    m1 = (u1r*v1r   + u1i*v1i)*phase*dx\n",
        "    M = assemble(m0+m1);\n",
        "        \n",
        "    j0 = -GX*(u0i*v0r   - u0r*v0i)*(1-phase)*dx\n",
        "    j1 = -GX*(u1i*v1r   - u1r*v1i)*phase*dx\n",
        "    J = assemble(j0+j1);    \n",
        "    s0 = K*( inner(grad(u0r), grad(v0r)) + inner(grad(u0i), grad(v0i)) )*(1-phase)*dx\n",
        "    s1 = K*( inner(grad(u1r), grad(v1r)) + inner(grad(u1i), grad(v1i)) )*phase*dx\n",
        "    S = assemble(s0+s1)\n",
        "\n",
        "    im = avg(  icondition(kappa, u0r  , u1r  , v0r, v1r, u0i  , u1i  , v0i, v1i) )*abs(jump(phase))*dS;\n",
        "    I = assemble(im)\n",
        "    \n",
        "    M.ident_zeros();\n",
        "    \n",
        "    return M, J, S, I\n",
        "\n",
        "def ThetaMethod_A(ft, gnorm, theta, k, M, J, S, I):\n",
        "    return 1./k*M + ft*gnorm*theta*J + theta*S + theta*I\n",
        "\n",
        "# Theta method\n",
        "\n",
        "stepcounter = 0;\n",
        "\n",
        "k = T/Nsteps; # Time-step size\n",
        "\n",
        "hmin = mesh.hmin();\n",
        "\n",
        "M, J, S, I = NoTimeMatrices(u0r, u0i, v0r, v0i, u1r, u1i, v1r, v1i, K, GX, kappa, theta, phase);\n",
        "\n",
        "while t < T + dt: # Time-stepping loop\n",
        "    if stepcounter % nskip == 0:\n",
        "        print('t: %f '%t, 'T: %.1f'%T, 'dt:%.1f'%k,'gnorm: %e'%gnorm,'Completed %.2f%%'%(float(t)/float(T+k)*100.0));\n",
        "\n",
        "    ft = FT(t, delta, Delta);\n",
        "\n",
        "    L = ThetaMethod_L(ft, gnorm, GX, u0r, u0i, v0r, v0i, u1r, u1i, v1r, v1i, u0r_0, u0i_0, u1r_0, u1i_0,k, kappa, K, theta, phase);\n",
        "    # a = ThetaMethod_a(ft, gnorm, GX, u0r, u0i, v0r, v0i, u1r, u1i, v1r, v1i, u0r_0, u0i_0, u1r_0, u1i_0,k,kappa, K, theta, phase);\n",
        "    # a = a + 1e-6*(u0r*v0r+u0i*v0i)*theta*dx + 1e-6*(u1r*v1r+u1i*v1i)*(1-theta)*dx\n",
        "    A = ThetaMethod_A(ft, gnorm, theta, k, M, J, S, I);\n",
        "    # A = assemble(a);\n",
        "    b = assemble(L);\n",
        "\n",
        "    # print J.is_symmetric(1e-10);\n",
        "    # stop\n",
        " \n",
        "    u = Function(W)\n",
        "    solve(A,u.vector(),b, \"gmres\", \"ilu\");\n",
        "    \n",
        "    u0r_0, u0i_0, u1r_0, u1i_0 = split(u)\n",
        "    \n",
        "    SubMeshSave(u0r_0, u0i_0, file_u0r, file_u0i, mesh0, nskip, stepcounter, dolfin_version);\n",
        "    SubMeshSave(u1r_0, u1i_0, file_u1r, file_u1i, mesh1, nskip, stepcounter, dolfin_version);\n",
        "    \n",
        "    t += k;\n",
        "    stepcounter += 1;\n",
        "\n",
        "signal = assemble((phase*u1r_0+(1-phase)*u0r_0)*dx)/assemble(one*dx);\n",
        "print('b:',bvalue, 'Signal: %.3e'%signal,'kappa: %.3e'%kappa,', dt:',k,', hmin:',hmin)\n",
        "\n",
        "\n",
        "V0 = FunctionSpace(mesh0,Ve);\n",
        "V1 = FunctionSpace(mesh1,Ve);\n",
        "u0r_0p = project(u0r_0,V0)\n",
        "u1r_0p = project(u1r_0,V1)\n",
        "plot(u0r_0p, cmap=\"coolwarm\")\n",
        "plot(u1r_0p, cmap=\"coolwarm\")\n",
        "\n"
      ],
      "execution_count": 15,
      "outputs": [
        {
          "output_type": "stream",
          "text": [
            "Calling FFC just-in-time (JIT) compiler, this may take some time.\n",
            "Calling FFC just-in-time (JIT) compiler, this may take some time.\n",
            "Calling FFC just-in-time (JIT) compiler, this may take some time.\n",
            "Calling FFC just-in-time (JIT) compiler, this may take some time.\n",
            "Calling FFC just-in-time (JIT) compiler, this may take some time.\n",
            "Calling FFC just-in-time (JIT) compiler, this may take some time.\n",
            "Calling FFC just-in-time (JIT) compiler, this may take some time.\n",
            "Calling FFC just-in-time (JIT) compiler, this may take some time.\n",
            "Calling FFC just-in-time (JIT) compiler, this may take some time.\n",
            "Calling FFC just-in-time (JIT) compiler, this may take some time.\n",
            "Calling FFC just-in-time (JIT) compiler, this may take some time.\n",
            "Calling FFC just-in-time (JIT) compiler, this may take some time.\n",
            "t: 0.000000  T: 80000.0 dt:400.0 gnorm: 9.682458e-06 Completed 0.00%\n",
            "Calling FFC just-in-time (JIT) compiler, this may take some time.\n",
            "Calling FFC just-in-time (JIT) compiler, this may take some time.\n",
            "Calling FFC just-in-time (JIT) compiler, this may take some time.\n",
            "Calling FFC just-in-time (JIT) compiler, this may take some time.\n",
            "Calling FFC just-in-time (JIT) compiler, this may take some time.\n",
            "Calling FFC just-in-time (JIT) compiler, this may take some time.\n",
            "Calling FFC just-in-time (JIT) compiler, this may take some time.\n",
            "t: 2000.000000  T: 80000.0 dt:400.0 gnorm: 9.682458e-06 Completed 2.49%\n",
            "t: 4000.000000  T: 80000.0 dt:400.0 gnorm: 9.682458e-06 Completed 4.98%\n",
            "t: 6000.000000  T: 80000.0 dt:400.0 gnorm: 9.682458e-06 Completed 7.46%\n",
            "t: 8000.000000  T: 80000.0 dt:400.0 gnorm: 9.682458e-06 Completed 9.95%\n",
            "t: 10000.000000  T: 80000.0 dt:400.0 gnorm: 9.682458e-06 Completed 12.44%\n",
            "t: 12000.000000  T: 80000.0 dt:400.0 gnorm: 9.682458e-06 Completed 14.93%\n",
            "t: 14000.000000  T: 80000.0 dt:400.0 gnorm: 9.682458e-06 Completed 17.41%\n",
            "t: 16000.000000  T: 80000.0 dt:400.0 gnorm: 9.682458e-06 Completed 19.90%\n",
            "t: 18000.000000  T: 80000.0 dt:400.0 gnorm: 9.682458e-06 Completed 22.39%\n",
            "t: 20000.000000  T: 80000.0 dt:400.0 gnorm: 9.682458e-06 Completed 24.88%\n",
            "t: 22000.000000  T: 80000.0 dt:400.0 gnorm: 9.682458e-06 Completed 27.36%\n",
            "t: 24000.000000  T: 80000.0 dt:400.0 gnorm: 9.682458e-06 Completed 29.85%\n",
            "t: 26000.000000  T: 80000.0 dt:400.0 gnorm: 9.682458e-06 Completed 32.34%\n",
            "t: 28000.000000  T: 80000.0 dt:400.0 gnorm: 9.682458e-06 Completed 34.83%\n",
            "t: 30000.000000  T: 80000.0 dt:400.0 gnorm: 9.682458e-06 Completed 37.31%\n",
            "t: 32000.000000  T: 80000.0 dt:400.0 gnorm: 9.682458e-06 Completed 39.80%\n",
            "t: 34000.000000  T: 80000.0 dt:400.0 gnorm: 9.682458e-06 Completed 42.29%\n",
            "t: 36000.000000  T: 80000.0 dt:400.0 gnorm: 9.682458e-06 Completed 44.78%\n",
            "t: 38000.000000  T: 80000.0 dt:400.0 gnorm: 9.682458e-06 Completed 47.26%\n",
            "t: 40000.000000  T: 80000.0 dt:400.0 gnorm: 9.682458e-06 Completed 49.75%\n",
            "Calling FFC just-in-time (JIT) compiler, this may take some time.\n",
            "t: 42000.000000  T: 80000.0 dt:400.0 gnorm: 9.682458e-06 Completed 52.24%\n",
            "t: 44000.000000  T: 80000.0 dt:400.0 gnorm: 9.682458e-06 Completed 54.73%\n",
            "t: 46000.000000  T: 80000.0 dt:400.0 gnorm: 9.682458e-06 Completed 57.21%\n",
            "t: 48000.000000  T: 80000.0 dt:400.0 gnorm: 9.682458e-06 Completed 59.70%\n",
            "t: 50000.000000  T: 80000.0 dt:400.0 gnorm: 9.682458e-06 Completed 62.19%\n",
            "t: 52000.000000  T: 80000.0 dt:400.0 gnorm: 9.682458e-06 Completed 64.68%\n",
            "t: 54000.000000  T: 80000.0 dt:400.0 gnorm: 9.682458e-06 Completed 67.16%\n",
            "t: 56000.000000  T: 80000.0 dt:400.0 gnorm: 9.682458e-06 Completed 69.65%\n",
            "t: 58000.000000  T: 80000.0 dt:400.0 gnorm: 9.682458e-06 Completed 72.14%\n",
            "t: 60000.000000  T: 80000.0 dt:400.0 gnorm: 9.682458e-06 Completed 74.63%\n",
            "t: 62000.000000  T: 80000.0 dt:400.0 gnorm: 9.682458e-06 Completed 77.11%\n",
            "t: 64000.000000  T: 80000.0 dt:400.0 gnorm: 9.682458e-06 Completed 79.60%\n",
            "t: 66000.000000  T: 80000.0 dt:400.0 gnorm: 9.682458e-06 Completed 82.09%\n",
            "t: 68000.000000  T: 80000.0 dt:400.0 gnorm: 9.682458e-06 Completed 84.58%\n",
            "t: 70000.000000  T: 80000.0 dt:400.0 gnorm: 9.682458e-06 Completed 87.06%\n",
            "t: 72000.000000  T: 80000.0 dt:400.0 gnorm: 9.682458e-06 Completed 89.55%\n",
            "t: 74000.000000  T: 80000.0 dt:400.0 gnorm: 9.682458e-06 Completed 92.04%\n",
            "t: 76000.000000  T: 80000.0 dt:400.0 gnorm: 9.682458e-06 Completed 94.53%\n",
            "t: 78000.000000  T: 80000.0 dt:400.0 gnorm: 9.682458e-06 Completed 97.01%\n",
            "Calling FFC just-in-time (JIT) compiler, this may take some time.\n",
            "Calling FFC just-in-time (JIT) compiler, this may take some time.\n",
            "b: 4000 Signal: 5.253e-02 kappa: 5.000e-05 , dt: 400.0 , hmin: 1.9876796914809614\n"
          ],
          "name": "stdout"
        },
        {
          "output_type": "execute_result",
          "data": {
            "text/plain": [
              "<mpl_toolkits.mplot3d.art3d.Path3DCollection at 0x7fe3b38e6a90>"
            ]
          },
          "metadata": {
            "tags": []
          },
          "execution_count": 15
        },
        {
          "output_type": "display_data",
          "data": {
            "image/png": "[encoded data removed]",
            "text/plain": [
              "<Figure size 576x396 with 1 Axes>"
            ]
          },
          "metadata": {
            "tags": []
          }
        }
      ]
    },
    {
      "metadata": {
        "id": "2PFBYd0QMw4U",
        "colab_type": "text"
      },
      "cell_type": "markdown",
      "source": [
        "# Reference solutions"
      ]
    },
    {
      "metadata": {
        "id": "3paAgRxbM3yW",
        "colab_type": "code",
        "colab": {}
      },
      "cell_type": "code",
      "source": [
        "# The results were generated by the Matrix Formalism method propsed in\n",
        "# D.S. Grebenkov, Pulsed-gradient spin-echo monitoring of restricted \n",
        "# diffusion in multilayered structures, J. Magn. Reson., 205 (2) (2010)\n",
        "# # # # # # # # # # # # # # # # # # # # # # # # # # # # # # # # # # # # \n",
        "# # # R=[5,7.5,10], kappa=5e-5m/s delta=Delta=40000\n",
        "#  bvalue  # signal attenuation\n",
        "# # # # # # # # # # # # # # #\n",
        "# # # # # # # # # # # # # # #\n",
        "\n",
        "\n"
      ],
      "execution_count": 0,
      "outputs": []
    }
  ]
}