{
  "nbformat": 4,
  "nbformat_minor": 0,
  "metadata": {
    "colab": {
      "name": "Time_stepping.ipynb",
      "version": "0.3.2",
      "provenance": [],
      "include_colab_link": true
    },
    "kernelspec": {
      "name": "python3",
      "display_name": "Python 3"
    }
  },
  "cells": [
    {
      "cell_type": "markdown",
      "metadata": {
        "id": "view-in-github",
        "colab_type": "text"
      },
      "source": [
        "<a href=\"https://colab.research.google.com/github/van-dang/FEniCS-Colab/blob/master/Time_stepping.ipynb\" target=\"_parent\"><img src=\"https://colab.research.google.com/assets/colab-badge.svg\" alt=\"Open In Colab\"/></a>"
      ]
    },
    {
      "metadata": {
        "id": "CaYJ5SM2_JiG",
        "colab_type": "text"
      },
      "cell_type": "markdown",
      "source": [
        "We consider a first-order ODE \n",
        "$$\\frac{du}{dt}=f(u,t), \\quad t\\in (0, T]\\\\\\text{with initial condition } u(0)=u_0 $$\n",
        "\n",
        "Can we find the analytical solution easily?\n",
        "\n",
        "For example\n",
        "\n",
        "$$\\frac{du}{dt}=-10\\, u$$ \n",
        "with $u(0)=1$ can be easily solve to obtain $u(t)=\\exp(-10\\,t)$.\n",
        "\n",
        "How about $\\dfrac{du}{dt}=-10\\, u^3 + u\\,t$ with u(t)=1? Not easy to solve!\n",
        "\n",
        "One needs to rely on numerical solution.\n",
        "\n",
        "**Procedure**\n",
        "\n",
        "*   Discretize the domain $(0, T]$ by $N$ grid points $0=t_0<t_1<...<t_{N-1}=T$ with $k=t_{n}-t_{n-1}$. \n",
        "\n",
        "*  Use the approximation $\\dfrac{du}{dt}\\approx \\dfrac{u_n-u_{n-1}}{k}$ for the left-hand side of the equation.\n",
        "*   How to approximate the right-hand side? There are several options\n",
        "\n",
        "    *  $f(u,t)\\approx f(u_{n-1},t_{n-1})$: Forward (explicit) Euler method\n",
        "      $$\\dfrac{u_n-u_{n-1}}{k}=f(u_{n-1},t_{n-1}) \\implies u_n=kf(u_{n-1},t_{n-1})+u_{n-1}$$\n",
        "      \n",
        "    * $f(u,t)\\approx f(u_{n},t_{n})$: Backward (implicit) Euler method\n",
        "      $$\\dfrac{u_n-u_{n-1}}{k}=f(u_{n},t_{n}) \\implies u_n-kf(u_{n},t_{n})=u_{n-1}$$\n",
        "\n",
        "    * $f(u,t)\\approx \\dfrac{1}{2} \\Bigl( f(u_{n},t_{n}) +  f(u_{n-1},t_{n-1}) \\Bigl)$: Crank Nilcolson (midpoint) method\n",
        "      $$\\dfrac{u_n-u_{n-1}}{k}=\\dfrac{1}{2} \\Bigl( f(u_{n},t_{n}) +  f(u_{n-1},t_{n-1}) \\Bigl) \\implies u_n-\\dfrac{k}{2}f(u_{n},t_{n})=u_{n-1} + \\dfrac{k}{2}f(u_{n-1},t_{n-1})$$\n",
        "    * $f(u,t)\\approx \\theta f(u_{n},t_{n}) +  (1-\\theta)f(u_{n-1},t_{n-1})$ with $\\theta\\in[0, 1]$: $\\theta-method$\n",
        "      $$\\dfrac{u_n-u_{n-1}}{k}=\\theta f(u_{n},t_{n}) +  (1-\\theta)f(u_{n-1},t_{n-1}) \\implies u_n-k \\theta(u_{n},t_{n})=u_{n-1} + k(1-\\theta)f(u_{n-1},t_{n-1})$$ \n",
        "      \n",
        "**Quick test** verify that $\\theta-$method is the general form of Euler and midpoint methods. \n",
        "\n",
        "\n"
      ]
    },
    {
      "metadata": {
        "id": "FfKBgq3CHHOX",
        "colab_type": "text"
      },
      "cell_type": "markdown",
      "source": [
        "**Why are there different schemes?**\n",
        "\n"
      ]
    },
    {
      "metadata": {
        "id": "DsLrYnqvCR13",
        "colab_type": "code",
        "colab": {
          "base_uri": "https://localhost:8080/",
          "height": 364
        },
        "outputId": "30fc9cc8-1811-4388-b982-0e9960f1a36d"
      },
      "cell_type": "code",
      "source": [
        "import numpy as np\n",
        "import matplotlib.pyplot as plt\n",
        "\n",
        "\n",
        "a, b  = 0, 3;\n",
        "N = 40;\n",
        "u = [0]*N;\n",
        "t = np.linspace(a, b, num=N)\n",
        "theta = 0.5;\n",
        "\n",
        "u[0] = 1;\n",
        "for i in range(1,N):\n",
        "  dt = t[i] - t[i-1]\n",
        "  u[i] = (u[i-1]+(1-theta)*dt*(-10*u[i-1]))/(1-theta*dt*(-10))\n",
        "\n",
        "plt.plot(t,np.exp(-10*t),t,u)\n",
        "plt.gca().legend(('Exact solution','Numerical solution'))"
      ],
      "execution_count": 8,
      "outputs": [
        {
          "output_type": "execute_result",
          "data": {
            "text/plain": [
              "<matplotlib.legend.Legend at 0x7f6a8691a6a0>"
            ]
          },
          "metadata": {
            "tags": []
          },
          "execution_count": 8
        },
        {
          "output_type": "display_data",
          "data": {
            "image/png": "[encoded data removed]",
            "text/plain": [
              "<Figure size 576x396 with 1 Axes>"
            ]
          },
          "metadata": {
            "tags": []
          }
        }
      ]
    }
  ]
}