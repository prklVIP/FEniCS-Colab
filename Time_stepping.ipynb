{
  "nbformat": 4,
  "nbformat_minor": 0,
  "metadata": {
    "colab": {
      "name": "Time_stepping.ipynb",
      "version": "0.3.2",
      "provenance": [],
      "include_colab_link": true
    },
    "kernelspec": {
      "name": "python3",
      "display_name": "Python 3"
    }
  },
  "cells": [
    {
      "cell_type": "markdown",
      "metadata": {
        "id": "view-in-github",
        "colab_type": "text"
      },
      "source": [
        "<a href=\"https://colab.research.google.com/github/van-dang/FEniCS-Colab/blob/master/Time_stepping.ipynb\" target=\"_parent\"><img src=\"https://colab.research.google.com/assets/colab-badge.svg\" alt=\"Open In Colab\"/></a>"
      ]
    },
    {
      "metadata": {
        "id": "CaYJ5SM2_JiG",
        "colab_type": "text"
      },
      "cell_type": "markdown",
      "source": [
        "# Solve an ODE\n",
        "\n",
        "After this lecture, students are able to\n",
        "\n",
        "*  Distinguish between linear and non-linear ODE. \n",
        "*  Familiarize with the most commonly used numerical schemes to solve an ODE.\n",
        "*  Understand why one needs different schemes.\n",
        "*  Bring the method to practice.\n",
        "\n"
      ]
    },
    {
      "metadata": {
        "id": "8fu1Xx17oahb",
        "colab_type": "text"
      },
      "cell_type": "markdown",
      "source": [
        "# Linear ODE"
      ]
    },
    {
      "metadata": {
        "id": "CM5GyQ6SNOLw",
        "colab_type": "text"
      },
      "cell_type": "markdown",
      "source": [
        "We consider a first-order ODE \n",
        "$$\\frac{du}{dt}=f(u,t), \\quad t\\in (0, T]\\\\\\text{with initial condition } u(0)=u_0 $$\n",
        "\n",
        "Can we find the analytical solution easily?\n",
        "\n",
        "For example\n",
        "\n",
        "$$\\frac{du}{dt}=-10\\, u$$ \n",
        "with $u(0)=1$ can be easily solve to obtain $u(t)=\\exp(-10\\,t)$.\n",
        "\n",
        "How about $\\dfrac{du}{dt}=-10\\, u +\\,t$ with u(t)=1? Not easy to solve with a very small change!\n",
        "\n",
        "One needs to rely on numerical solution.\n",
        "\n",
        "**Procedure**\n",
        "\n",
        "*   Discretize the domain $(0, T]$ by $N$ grid points $0=t_0<t_1<...<t_{N-1}=T$ with $k=t_{n}-t_{n-1}$. \n",
        "\n",
        "*  Use the approximation $\\dfrac{du}{dt}\\approx \\dfrac{u_n-u_{n-1}}{k}$ for the left-hand side of the equation.\n",
        "*   How to approximate the right-hand side? There are several options\n",
        "\n",
        "    *  $f(u,t)\\approx f(u_{n-1},t_{n-1})$: Forward (explicit) Euler method\n",
        "      $$\\dfrac{u_n-u_{n-1}}{k}=f(u_{n-1},t_{n-1}) \\implies u_n=kf(u_{n-1},t_{n-1})+u_{n-1}$$\n",
        "      \n",
        "    * $f(u,t)\\approx f(u_{n},t_{n})$: Backward (implicit) Euler method\n",
        "      $$\\dfrac{u_n-u_{n-1}}{k}=f(u_{n},t_{n}) \\implies u_n-kf(u_{n},t_{n})=u_{n-1}$$\n",
        "\n",
        "    * $f(u,t)\\approx \\dfrac{1}{2} \\Bigl( f(u_{n},t_{n}) +  f(u_{n-1},t_{n-1}) \\Bigl)$: Crank Nilcolson (midpoint) method\n",
        "      $$\\dfrac{u_n-u_{n-1}}{k}=\\dfrac{1}{2} \\Bigl( f(u_{n},t_{n}) +  f(u_{n-1},t_{n-1}) \\Bigl) \\implies u_n-\\dfrac{k}{2}f(u_{n},t_{n})=u_{n-1} + \\dfrac{k}{2}f(u_{n-1},t_{n-1})$$\n",
        "    * $f(u,t)\\approx \\theta f(u_{n},t_{n}) +  (1-\\theta)f(u_{n-1},t_{n-1})$ with $\\theta\\in[0, 1]$: $\\theta-method$\n",
        "      $$\\dfrac{u_n-u_{n-1}}{k}=\\theta f(u_{n},t_{n}) +  (1-\\theta)f(u_{n-1},t_{n-1}) \\implies u_n-k \\theta(u_{n},t_{n})=u_{n-1} + k(1-\\theta)f(u_{n-1},t_{n-1})$$ \n",
        "      \n",
        "**Quick test** verify that $\\theta-$method is the general form of  the Euler and midpoint methods.\n",
        "\n",
        "\n",
        "\n"
      ]
    },
    {
      "metadata": {
        "id": "FfKBgq3CHHOX",
        "colab_type": "text"
      },
      "cell_type": "markdown",
      "source": [
        "**Why are there different schemes?**\n",
        "\n",
        "The following code illustrates the $\\theta-$method for the first-order ODE \n",
        "$$\\frac{du}{dt}=-10\\,u$$\n",
        "The numerical solution is compared to the exact solution $u=\\exp(-10\\,t)$.\n",
        "\n",
        "**Exercise** \n",
        "\n",
        "1.   Compare three methods Forward Euler ($\\theta=0$), Backward Euler ($\\theta=1$) and mipoint ($\\theta=0.5$) in terms of accuracy and stability for $N=10, 50, 100$\n",
        "2.   Modify the code to solve $\\dfrac{du}{dt}=-10\\,u+ t, \\text{ with } u(0)=1$\n",
        "\n"
      ]
    },
    {
      "metadata": {
        "id": "DsLrYnqvCR13",
        "colab_type": "code",
        "outputId": "0f549cfc-f688-4893-d01e-e7915fe3e719",
        "colab": {
          "base_uri": "https://localhost:8080/",
          "height": 381
        }
      },
      "cell_type": "code",
      "source": [
        "import numpy as np\n",
        "import matplotlib.pyplot as plt\n",
        "\n",
        "a, b, N  = 0, 3, 10;\n",
        "u = [0]*N;\n",
        "t = np.linspace(a, b, num=N)\n",
        "k = t[1] - t[0];\n",
        "theta = 1.0;\n",
        "\n",
        "u[0] = 1;\n",
        "for i in range(1,N):\n",
        "  u[i] = (u[i-1]+k*(1-theta)*(-10*u[i-1]))/(1-k*theta*(-10))\n",
        "\n",
        "max_error = max(abs(np.exp(-10*t)-u))  \n",
        "\n",
        "print(\"max error:\", max_error)\n",
        "\n",
        "plt.plot(t,np.exp(-10*t),'r-',t,u,'b-.')\n",
        "plt.gca().legend(('Exact solution','Numerical solution'))"
      ],
      "execution_count": 0,
      "outputs": [
        {
          "output_type": "stream",
          "text": [
            "max error: 0.19509523742197837\n"
          ],
          "name": "stdout"
        },
        {
          "output_type": "execute_result",
          "data": {
            "text/plain": [
              "<matplotlib.legend.Legend at 0x7f6a858f7f60>"
            ]
          },
          "metadata": {
            "tags": []
          },
          "execution_count": 48
        },
        {
          "output_type": "display_data",
          "data": {
            "image/png": "[encoded data removed]",
            "text/plain": [
              "<Figure size 576x396 with 1 Axes>"
            ]
          },
          "metadata": {
            "tags": []
          }
        }
      ]
    },
    {
      "metadata": {
        "id": "BzHeOdhxqgyW",
        "colab_type": "text"
      },
      "cell_type": "markdown",
      "source": [
        "# Non-linear ODE\n",
        "We consider the non-linear ODE\n",
        "$$\\frac{du}{dt}=u(t)\\bigl(1-u(t)\\bigl)$$\n",
        "\n",
        "Some comments:\n",
        "\n",
        "*   Explicit scheme: $\\frac{u_n-u_{n-1}}{k}=u_{n-1}(1-u_{n-1})$. Should work!\n",
        "*   Implicit scheme: $\\frac{u_n-u_{n-1}}{k}=u_{n}(1-u_{n}) \\Longleftrightarrow u_n- ku_{n}(1-u_{n})=u_{n-1}$. Can be solved to find  $u_{n}$ for this case but the method does not work in general!\n",
        "\n",
        "One needs to linearize the non-linear terms for the implicit schemes.\n",
        "*   A single Picard iteration:  $\\frac{u_n-u_{n-1}}{k}=u_{n}(1-u_{n-1}) \\Longleftrightarrow u_n  = \\frac{u_{n-1}}{ 1-k(1-u_{n-1})  } $.\n",
        "*  Linearization by a geometric mean\n",
        "\n",
        "$$\\frac{u_n-u_{n-1}}{k}=u_{n+\\frac{1}{2}}-u_{n+\\frac{1}{2}}^2$$\n",
        "where $u_{n+\\frac{1}{2}}=\\frac{u_n+u_{n-1}}{2}$ and $u_{n+\\frac{1}{2}}^2=u_n\\,u_{n-1}$\n",
        "\n",
        "\n",
        "\n",
        "*  Newton's method\n",
        "\n"
      ]
    },
    {
      "metadata": {
        "id": "G2H8tbYtcNI3",
        "colab_type": "text"
      },
      "cell_type": "markdown",
      "source": [
        "# References\n",
        "Solving nonlinear ODE and PDE problems, Hans Petter Langtangen, https://hplgit.github.io/num-methods-for-PDEs/doc/pub/nonlin/pdf/nonlin-4print.pdf"
      ]
    }
  ]
}