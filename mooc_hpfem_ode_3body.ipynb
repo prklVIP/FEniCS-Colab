{
  "nbformat": 4,
  "nbformat_minor": 0,
  "metadata": {
    "colab": {
      "name": "mooc-hpfem-ode-3body.ipynb",
      "version": "0.3.2",
      "provenance": [],
      "include_colab_link": true
    },
    "kernelspec": {
      "name": "python3",
      "display_name": "Python 3"
    }
  },
  "cells": [
    {
      "cell_type": "markdown",
      "metadata": {
        "id": "view-in-github",
        "colab_type": "text"
      },
      "source": [
        "<a href=\"https://colab.research.google.com/github/van-dang/FEniCS-Colab/blob/master/mooc_hpfem_ode_3body.ipynb\" target=\"_parent\"><img src=\"https://colab.research.google.com/assets/colab-badge.svg\" alt=\"Open In Colab\"/></a>"
      ]
    },
    {
      "metadata": {
        "id": "X_saSkGWWVWm",
        "colab_type": "code",
        "colab": {
          "base_uri": "https://localhost:8080/",
          "height": 111
        },
        "outputId": "119fcdac-bc0a-429f-f0e3-7d5294bba555"
      },
      "cell_type": "code",
      "source": [
        "import matplotlib.pyplot as plt\n",
        "\n",
        "from pylab import *; M = 3  # M number of particles\n",
        "\n",
        "def step(f, t0, u0, k, method): # One step for ODE: u' = f(t, u), u(0) = u0, returns u(t + k)\n",
        "    thetadict = {\"Forward Euler\": 0., \"Backward Euler\": 1., \"Trapezoid\": 0.5}; theta = thetadict[method]\n",
        "    M = 5; t = t0 + k; u = u0 # Starting guess\n",
        "    for i in range(0, M): # M fixed-point iterations\n",
        "        u = u0 + (1. - theta)*k*f(t0, u0) + theta*k*f(t, u)\n",
        "    return u\n",
        "\n",
        "def solve(f, I, u0, k, method): # Solve ODE u' = f(t, u), u(0) = u0, I = [t0, T], returns array of t and u\n",
        "    tarr = linspace(I[0], I[1], (I[1] - I[0])/k + 1); uarr = zeros([size(u0), tarr.size]); uarr[:, 0] = u0\n",
        "    t = I[0]; T = I[1]; u = u0; i = 1\n",
        "    for t in tarr[1:]: u0 = u; u = step(f, t - k, u0, k, method); uarr[:, i] = u; i += 1\n",
        "    return [tarr, uarr]\n",
        "\n",
        "def f_3body(t, u):\n",
        "    fval[:] = 0.; m = [200, 4, 1]; K = 0.*100.0; L = 0.*2.0 # Mass m, stiffness E, rest length L\n",
        "    for i0 in range(0, M):\n",
        "        for i1 in range(0, M):\n",
        "            if(i0 != i1):\n",
        "                r = norm(u[i1:2*M:M] - u[i0:2*M:M]); e = (u[i1:2*M:M] - u[i0:2*M:M])/r; # radius and direction\n",
        "                fval[i0 + 2*M::M] += (K*(r - L)*e + m[i1]*m[i0]*e/r**2) / m[i0] # Elastic and gravity forces\n",
        "    fval[:2*M] = u[2*M:]; return fval\n",
        "\n",
        "def plot_simple_anim(tarr, uarr, I, pl, ax, fig, j):\n",
        "    ax.cla(); u = uarr[:, j]; t = tarr[j]; T = I[1]; N = 2*M\n",
        "    ax.plot(u[0:N:3][0], u[0:N:3][1], 'r-o', u[1:N:3][0], u[1:N:3][1], 'g-o', u[2:N:3][0], u[2:N:3][1], 'b-o');\n",
        "    ax.plot(uarr[0*M+0, :j], uarr[1*M+0, :j], 'r-');  ax.plot(uarr[0*M+1, :j], uarr[1*M+1, :j], 'g-');\n",
        "    ax.plot(uarr[0*M+2, :j], uarr[1*M+2, :j], 'b-');\n",
        "    ax.set_xlim([-10., 10.]); ax.set_ylim([-10., 10.]); ax.set_xlabel(\"x coord\"); ax.set_ylabel(\"y coord\");\n",
        "    ax.legend([\"planet 1\", \"planet 2\", \"planet 3\"]); ax.set_title(\"3body t = %2.2f\" % t); pl.canvas.draw()\n",
        "\n",
        "u0 = zeros(4*M); x = zeros([M, 2]); v = zeros([M, 2]); a = zeros((M, 2)); fval = zeros(4*M) # Initial arrays\n",
        "x = stack([[-3., 3.], [-1., 3.], [-8., -3.]]); v = stack([[0., 0.], [0., -12.], [4., 9.]]) # Initial values\n",
        "u0[:] = concatenate([x.flatten(\"F\"), v.flatten(\"F\")]);  # Pack values\n",
        "\n",
        "I = [0., 20.]; k = 0.01; [tarr, uarr] = solve(f_3body, I, u0, k, \"Trapezoid\")\n",
        "\n",
        "\n",
        "\n",
        "\n",
        "#pl, ax = plt.subplots(); fig = plt.gcf(); fig.set_size_inches(8, 4)\n",
        "#for j in range(0, size(tarr), 1): plot_simple_anim(tarr, uarr, I, pl, ax, fig, j);"
      ],
      "execution_count": 1,
      "outputs": [
        {
          "output_type": "stream",
          "text": [
            "/usr/local/lib/python3.6/dist-packages/ipykernel_launcher.py:13: DeprecationWarning: object of type <class 'float'> cannot be safely interpreted as an integer.\n",
            "  del sys.path[0]\n"
          ],
          "name": "stderr"
        }
      ]
    }
  ]
}