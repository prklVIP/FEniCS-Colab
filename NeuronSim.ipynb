{
  "nbformat": 4,
  "nbformat_minor": 0,
  "metadata": {
    "colab": {
      "name": "NeuronSim.ipynb",
      "version": "0.3.2",
      "provenance": [],
      "collapsed_sections": [
        "vS_YdSbqFOln",
        "9SJXe6I5JUwF",
        "r6GW2fwLE042"
      ],
      "toc_visible": true,
      "include_colab_link": true
    },
    "kernelspec": {
      "name": "python3",
      "display_name": "Python 3"
    },
    "accelerator": "GPU"
  },
  "cells": [
    {
      "cell_type": "markdown",
      "metadata": {
        "id": "view-in-github",
        "colab_type": "text"
      },
      "source": [
        "<a href=\"https://colab.research.google.com/github/van-dang/FEniCS-Colab/blob/master/NeuronSim.ipynb\" target=\"_parent\"><img src=\"https://colab.research.google.com/assets/colab-badge.svg\" alt=\"Open In Colab\"/></a>"
      ]
    },
    {
      "metadata": {
        "id": "vS_YdSbqFOln",
        "colab_type": "text"
      },
      "cell_type": "markdown",
      "source": [
        "# About the code"
      ]
    },
    {
      "metadata": {
        "id": "CiQ9r51xKgWh",
        "colab_type": "code",
        "colab": {}
      },
      "cell_type": "code",
      "source": [
        "# This demo solves the Bloch-Torrey equation applied to computational diffusion MRI using \n",
        "# the finite element method coupled with the theta-method for the spatial discretization.\n",
        "\n",
        "# The scope of usage: \n",
        "# (1) one single domain, (2) pure homogeneous Neumann, \n",
        "# (3) Surface/volume diffusion, (4) Arbitrary profiles\n",
        "# (5) Diffusion tensor/scalar\n",
        "\n",
        "# Copyright (C) 2017 Van-Dang Nguyen (vdnguyen@kth.se)\n",
        "\n",
        "# This file is part of DOLFIN.\n",
        "\n",
        "# DOLFIN is free software: you can redistribute it and/or modify\n",
        "# it under the terms of the GNU Lesser General Public License as published by\n",
        "# the Free Software Foundation, either version 3 of the License, or\n",
        "# (at your option) any later version.\n",
        "\n",
        "# DOLFIN is distributed in the hope that it will be useful,\n",
        "# but WITHOUT ANY WARRANTY; without even the implied warranty of\n",
        "# MERCHANTABILITY or FITNESS FOR A PARTICULAR PURPOSE. See the\n",
        "# GNU Lesser General Public License for more details.\n",
        "\n",
        "# You should have received a copy of the GNU Lesser General Public License\n",
        "# along with DOLFIN. If not, see <http://www.gnu.org/licenses/>.\n",
        "\n",
        "# First added:  2017-10-10\n",
        "# Last changed: 2019-04-09\n",
        "\n",
        "# This demo is maintained by Van-Dang Nguyen\n",
        "# Please report possible problems to vdnguyen@kth.se\n",
        "\n",
        "\n",
        "# Neuron list:\n"
      ],
      "execution_count": 0,
      "outputs": []
    },
    {
      "metadata": {
        "id": "9SJXe6I5JUwF",
        "colab_type": "text"
      },
      "cell_type": "markdown",
      "source": [
        "# Setting a working environment with FEniCS"
      ]
    },
    {
      "metadata": {
        "id": "4jWzVxURFVLj",
        "colab_type": "code",
        "outputId": "6305fd35-d77b-4ac2-d7a8-ba2faad0ca6e",
        "colab": {
          "base_uri": "https://localhost:8080/",
          "height": 63
        }
      },
      "cell_type": "code",
      "source": [
        "from google.colab import files\n",
        "\n",
        "import platform, sys\n",
        "python_version=platform.python_version()\n",
        "from distutils.version import LooseVersion, StrictVersion\n",
        "\n",
        "if ( LooseVersion(python_version) < LooseVersion(\"3.0.0\")):\n",
        "    print(\"Python3 is needed!\");\n",
        "    print(\"How to fix: Runtime/Change_runtime_type/Python 3\");\n",
        "    sys.exit()\n",
        "    \n",
        "try:\n",
        "    from dolfin import *; from mshr import *\n",
        "except ImportError as e:\n",
        "    !apt-get install -y -qq software-properties-common python-software-properties module-init-tools\n",
        "    !add-apt-repository -y ppa:fenics-packages/fenics\n",
        "    !apt-get update -qq\n",
        "    !apt install -y --no-install-recommends fenics\n",
        "    from dolfin import *; from mshr import *\n",
        "    \n",
        "import matplotlib.pyplot as plt;\n",
        "from IPython.display import clear_output, display; import time; import dolfin.common.plotting as fenicsplot \n",
        "import time\n",
        "\n",
        "import os, sys, shutil\n",
        "\n",
        "dolfin_version = dolfin.__version__\n",
        "print ('dolfin version:', dolfin_version)\n",
        "\n",
        "!rm -rf * # clean up all files\n",
        "# Useful commands\n",
        "# Remove an empty folder      : os.rmdir(\"my_results\")\n",
        "# Remove a folder with files  : shutil.rmtree(\"results\")\n",
        "# Make a folder               : os.mkdir(\"my_results\")\n",
        "# Runtime/Change_runtime_type/Python3"
      ],
      "execution_count": 2,
      "outputs": [
        {
          "output_type": "stream",
          "text": [
            "dolfin version: 2018.1.0\n"
          ],
          "name": "stdout"
        }
      ]
    },
    {
      "metadata": {
        "id": "r6GW2fwLE042",
        "colab_type": "text"
      },
      "cell_type": "markdown",
      "source": [
        "# Download the mesh of a realistic neuron"
      ]
    },
    {
      "metadata": {
        "id": "ksCOgH6e6d8e",
        "colab_type": "code",
        "outputId": "1fed2aaa-62ee-4d27-cf4a-eb1897660e41",
        "colab": {
          "base_uri": "https://localhost:8080/",
          "height": 510
        }
      },
      "cell_type": "code",
      "source": [
        "!rm -rf *\n",
        "spindle_list=['03a_spindle2aFI','03a_spindle6aFI','03b_spindle4aACC','03b_spindle5aACC','03b_spindle6aACC',\n",
        "              '03b_spindle7aACC','04b_spindle3aFI','05b_spindle5aFI','06b_spindle8aACC','07b_spindle9aACC',\n",
        "              '08a_spindle13aACC','09o_spindle7aFI','09o_spindle8aFI','10a_spindle18aACC','12a_spindle19aACC',\n",
        "              '12o_spindle9aFI','13o_spindle10aFI','15o_spindle12aFI','16o_spindle13aFI','19o_spindle14aFI',\n",
        "              '21o_spindle15aFI','23o_spindle16aFI','25o_spindle17aFI','26o_spindle18aFI','27o_spindle19aFI',\n",
        "              '28o_spindle20aFI','28o_spindle21aFI','29o_spindle22aFI','30o_spindle23aFI',\n",
        "];\n",
        "\n",
        "pyramidal_list=['02a_pyramidal2aFI','02b_pyramidal1aACC','02b_pyramidal1aFI','03a_pyramidal9aFI',\n",
        "                '03b_pyramidal2aACC','03b_pyramidal3aACC','03b_pyramidal3aFI','03b_pyramidal4aFI',\n",
        "                '03b_pyramidal9aFI','04a_pyramidal4aACC','04a_pyramidal5aACC','04b_pyramidal5aFI',\n",
        "                '04b_pyramidal6aACC','04b_pyramidal6aFI','04b_pyramidal7aACC','05a_pyramidal10aACC',\n",
        "                '05a_pyramidal8aACC','05b_pyramidal7aFI','05b_pyramidal8aFI','05b_pyramidal9aACC',\n",
        "                '06a_pyramidal11aACC','06b_pyramidal10aFI','06b_pyramidal12aACC','07a_pyramidal13aACC',\n",
        "                '07b_pyramidal14aACC','08o_pyramidal11aFI','10a_pyramidal15aACC','11a_pyramidal16aACC',\n",
        "                '11o_pyramidal12aFI','17o_pyramidal13aFI','18o_pyramidal14aFI','20o_pyramidal15aFI',\n",
        "                '22o_pyramidal16aFI','24o_pyramidal17aFI','25o_pyramidal18aFI','31o_pyramidal19aFI',\n",
        "];\n",
        "\n",
        "neuron_id = 1;\n",
        "neuron_type = 'spindles';\n",
        "\n",
        "if neuron_type == 'spindles':\n",
        "    neuron_list = spindle_list;\n",
        "if neuron_type == 'pyramidals':\n",
        "    neuron_list = pyramidal_list;\n",
        "    \n",
        "neuron_name = neuron_list[neuron_id];\n",
        "print(neuron_name)\n",
        "neuron_dir='https://raw.githubusercontent.com/van-dang/NeuronVolumeMeshes/master/'+neuron_type+'/'+neuron_name+'.msh.zip'\n",
        "!wget $neuron_dir\n",
        "!unzip $neuron_name''.msh.zip\n",
        "!dolfin-convert $neuron_name''.msh $neuron_name''.xml\n",
        "\n",
        "mesh = Mesh(neuron_name+'.xml');\n",
        "gdim = mesh.geometry().dim()\n",
        "print('Mesh size: #vertices: '+str(mesh.num_vertices()) +', #elements: '+str(mesh.num_cells()) );"
      ],
      "execution_count": 17,
      "outputs": [
        {
          "output_type": "stream",
          "text": [
            "03a_spindle6aFI\n",
            "--2019-04-09 11:52:10--  https://raw.githubusercontent.com/van-dang/NeuronVolumeMeshes/master/spindles/03a_spindle6aFI.msh.zip\n",
            "Resolving raw.githubusercontent.com (raw.githubusercontent.com)... 151.101.0.133, 151.101.64.133, 151.101.128.133, ...\n",
            "Connecting to raw.githubusercontent.com (raw.githubusercontent.com)|151.101.0.133|:443... connected.\n",
            "HTTP request sent, awaiting response... 200 OK\n",
            "Length: 9195700 (8.8M) [application/zip]\n",
            "Saving to: ‘03a_spindle6aFI.msh.zip’\n",
            "\n",
            "03a_spindle6aFI.msh 100%[===================>]   8.77M  --.-KB/s    in 0.1s    \n",
            "\n",
            "2019-04-09 11:52:10 (83.5 MB/s) - ‘03a_spindle6aFI.msh.zip’ saved [9195700/9195700]\n",
            "\n",
            "Archive:  03a_spindle6aFI.msh.zip\n",
            "  inflating: 03a_spindle6aFI.msh     \n",
            "Converting from Gmsh format (.msh, .gmsh) to DOLFIN XML format\n",
            "Expecting 120998 vertices\n",
            "Found all vertices\n",
            "Expecting 489810 cells\n",
            "Found all cells\n",
            "Conversion done\n",
            "Mesh size: #vertices: 120998, #elements: 489810\n"
          ],
          "name": "stdout"
        }
      ]
    },
    {
      "metadata": {
        "id": "p40vN6yfVFzd",
        "colab_type": "text"
      },
      "cell_type": "markdown",
      "source": [
        "# Define simulation parameters"
      ]
    },
    {
      "metadata": {
        "id": "dOW2zna9VHID",
        "colab_type": "code",
        "colab": {}
      },
      "cell_type": "code",
      "source": [
        "bvalue = 2000;              # bvalue\n",
        "\n",
        "delta, Delta = 40000, 40000 # PGSE sequence\n",
        "T = Delta+delta;\n",
        "if (Delta-delta/3.0<=0):\n",
        "    print('Check time sequence!');\n",
        "    exit(0);\n",
        "\n",
        "g0, g1, g2 = 1, 1, 1;       # gradient direction\n",
        "dcoeff = 3e-3;                   # Diffusion coefficient\n",
        "if gdim==2:\n",
        "  K = as_matrix(((dcoeff, 0), (0, dcoeff))) # Diffusion tensor\n",
        "if gdim==3:\n",
        "  K = as_matrix(((dcoeff, 0, 0), (0, dcoeff, 0), (0, 0, dcoeff))) # Diffusion tensor\n",
        "  \n",
        "nskip = 5;                  # Output frequency (for visualization only)\n",
        "porder = 1;                 # order of basis functions of FEM\n",
        "Nsteps = 200;               # number of time intervals\n",
        "\n",
        "# k = T/Nsteps;\n",
        "k = 1000; # Time-step size\n",
        "\n",
        "theta = 0.5; # 0.5 - Midpoint method\n",
        "\n",
        "stepcounter = 0;"
      ],
      "execution_count": 0,
      "outputs": []
    },
    {
      "metadata": {
        "id": "TNODFhwpH7kg",
        "colab_type": "text"
      },
      "cell_type": "markdown",
      "source": [
        "# Solve the Bloch-Torrey equation"
      ]
    },
    {
      "metadata": {
        "id": "DYZ5SWlw69tQ",
        "colab_type": "code",
        "outputId": "c77f3ebb-da67-4755-b2e4-bef9cfbed8e3",
        "colab": {
          "base_uri": "https://localhost:8080/",
          "height": 405
        }
      },
      "cell_type": "code",
      "source": [
        "t = 0;\n",
        "gnorm = sqrt(bvalue)/sqrt(delta*delta*(Delta-delta/3.0));\n",
        "\n",
        "## FUNCTION SPACES\n",
        "if dolfin_version=='1.6.0':\n",
        "    V = FunctionSpace(mesh , \"CG\", porder); # order 1, 2 components\n",
        "    W = MixedFunctionSpace([V, V])\n",
        "else:\n",
        "    # For FEniCS 2016, 2017\n",
        "    Ve = FiniteElement(\"CG\", mesh.ufl_cell(), porder)\n",
        "    V = FunctionSpace(mesh,Ve);\n",
        "    TH = MixedElement([Ve,Ve])\n",
        "    W = FunctionSpace(mesh, TH)\n",
        "\n",
        "v = TestFunction(W)\n",
        "v1r, v1i = v[0], v[1]\n",
        "\n",
        "u = TrialFunction(W);\n",
        "u1r, u1i = u[0], u[1]\n",
        "\n",
        "# Initial conditions\n",
        "if (gdim==2):\n",
        "  Dirac_Delta = Expression(\"x[0]*x[0]+x[1]*x[1]<eps\",eps=1e6, domain=mesh, degree=2);\n",
        "if (gdim==3):\n",
        "  Dirac_Delta = Expression(\"x[0]*x[0]+x[1]*x[1]+x[2]*x[2]<eps\",eps=1e6, domain=mesh, degree=2);\n",
        "Dirac_Delta = interpolate(Dirac_Delta, V);\n",
        "\n",
        "import math, sys\n",
        "checknan = math.isnan(Dirac_Delta.vector().norm('l2'));\n",
        "if (checknan):\n",
        "  print(\"The mesh may be invalid! Please double check\");\n",
        "  sys.exit()\n",
        "\n",
        "u_0 = Function(W);\n",
        "assign(u_0.sub(0), Dirac_Delta)\n",
        "u1r_0, u1i_0 = split(u_0)\n",
        "\n",
        "if (gdim==2):\n",
        "  GX=Expression(\"x[0]*g0+x[1]*g1\", g0=g0, g1=g1, domain=mesh, degree=3);\n",
        "if (gdim==3):\n",
        "  GX=Expression(\"x[0]*g0+x[1]*g1+x[2]*g2\", g0=g0, g1=g1, g2=g2, domain=mesh, degree=3);\n",
        "\n",
        "def FT(t, delta, Delta, stype):\n",
        "  if stype==\"PGSE\":\n",
        "    ft1 = 1.0*(t>=0 and t<delta) \n",
        "    ft2 = -1.0*(t>=Delta and t<=Delta+delta);\n",
        "  return ft1 + ft2;  \n",
        "\n",
        "## Theta method\n",
        "def FuncF(ft, gnorm, GX, ur, ui, vr, vi, K):\n",
        "    Fr = ft*gnorm*GX*ui*vr - inner(K*grad(ur), grad(vr))\n",
        "    Fi = - ft*gnorm*GX*ur*vi - inner(K*grad(ui), grad(vi))\n",
        "    return Fr + Fi\n",
        "\n",
        "def ThetaMethod_L(ft, gnorm, GX, u1r, u1i, v1r, v1i,k, K, theta):\n",
        "    L1 = (u1r_0/k*v1r +u1i_0/k*v1i+(1-theta)*FuncF(ft, gnorm, GX, u1r_0, u1i_0, v1r, v1i, K))*dx\n",
        "    return L1\n",
        "\n",
        "def ThetaMethod_a(ft, gnorm, GX, u1r, u1i, v1r, v1i,k, K, theta):\n",
        "    a1 = (u1r/k*v1r   + u1i/k*v1i  -theta*FuncF(ft, gnorm, GX, u1r  , u1i  , v1r, v1i, K))*dx\n",
        "    return a1\n",
        "\n",
        "def NoTimeMatrices(u1r, u1i, v1r, v1i, K, GX, theta):\n",
        "    m1 = (u1r*v1r   + u1i*v1i)*dx\n",
        "    M = assemble(m1);\n",
        "    j1 = -GX*(u1i*v1r   - u1r*v1i)*dx\n",
        "    J = assemble(j1);    \n",
        "    s1 = inner(K*grad(u1r), grad(v1r))*dx + inner(K*grad(u1i), grad(v1i)) *dx\n",
        "    S = assemble(s1)\n",
        "    return M, J, S\n",
        "\n",
        "def ThetaMethod_A(ft, gnorm, theta, k, M, J, S):\n",
        "    return 1./k*M + ft*gnorm*theta*J + theta*S\n",
        "\n",
        "\n",
        "print('mesh.hmin: ', hmin,'mesh.hmax: ',mesh.hmax());\n",
        "\n",
        "M, J, S = NoTimeMatrices(u1r, u1i, v1r, v1i, K, GX, theta);\n",
        "\n",
        "stepcounter = 0;\n",
        "\n",
        "ft_prev = FT(t, delta, Delta, 'PGSE');\n",
        "\n",
        "solver = KrylovSolver('gmres', 'ilu')\n",
        "solver.parameters[\"absolute_tolerance\"] = 1e-6\n",
        "solver.parameters[\"relative_tolerance\"] = 1e-4\n",
        "solver.parameters[\"maximum_iterations\"] = 1000\n",
        "\n",
        "start_time = time.time()\n",
        "\n",
        "while t < T + k: # Time-stepping loop\n",
        "    if stepcounter % nskip == 0:\n",
        "        print('t: %f '%t, 'T: %.1f'%T, 'dt: %.1f'%k,'gnorm: %e'%gnorm,'Completed %.2f%%'%(float(t)/float(T+k)*100.0));\n",
        "    ft = FT(t, delta, Delta,'PSGE');\n",
        "    L = ThetaMethod_L(ft_prev, gnorm, GX, u1r, u1i, v1r, v1i,k, K, theta);\n",
        "    A=ThetaMethod_A(ft, gnorm, theta, k, M, J, S)\n",
        "    # a = ThetaMethod_a(ft, gnorm, GX, u1r, u1i, v1r, v1i,k, K, theta);\n",
        "    # A = assemble(a);\n",
        "    b = assemble(L);\n",
        "    u = Function(W)\n",
        "    solver.solve(A,u.vector(),b);\n",
        "    u1r_0, u1i_0 = split(u)\n",
        "    ft_prev = ft;\n",
        "    t += k;\n",
        "    stepcounter += 1;\n",
        "\n",
        "elapsed_time = time.time() - start_time\n",
        "\n",
        "\n",
        "signal = assemble(u1r_0*dx)/assemble(Dirac_Delta*dx);\n",
        "print('b:',bvalue, 'Signal: %.3e'%signal,', dt: ',k,', hmin: ',hmin)\n",
        "\n",
        "\n",
        "print(\"Elapsed time: %f seconds\"%elapsed_time)\n",
        "\n",
        "u1r_0p = project(u1r_0, V);\n",
        "u1i_0p = project(u1i_0, V);\n",
        "\n",
        "File('RealSol.pvd')<<u1r_0p;\n",
        "File('ImagSol.pvd')<<u1i_0p;\n",
        "\n",
        "plot(u1r_0p, cmap=\"coolwarm\");"
      ],
      "execution_count": 22,
      "outputs": [
        {
          "output_type": "stream",
          "text": [
            "mesh.hmin:  0.06085419147501233 mesh.hmax:  5.721584690749218\n",
            "t: 0.000000  T: 80000.0 dt: 1000.0 gnorm: 6.846532e-06 Completed 0.00%\n"
          ],
          "name": "stdout"
        },
        {
          "output_type": "error",
          "ename": "UnboundLocalError",
          "evalue": "ignored",
          "traceback": [
            "\u001b[0;31m---------------------------------------------------------------------------\u001b[0m",
            "\u001b[0;31mUnboundLocalError\u001b[0m                         Traceback (most recent call last)",
            "\u001b[0;32m<ipython-input-22-b25b07e78b88>\u001b[0m in \u001b[0;36m<module>\u001b[0;34m()\u001b[0m\n\u001b[1;32m     92\u001b[0m     \u001b[0;32mif\u001b[0m \u001b[0mstepcounter\u001b[0m \u001b[0;34m%\u001b[0m \u001b[0mnskip\u001b[0m \u001b[0;34m==\u001b[0m \u001b[0;36m0\u001b[0m\u001b[0;34m:\u001b[0m\u001b[0;34m\u001b[0m\u001b[0;34m\u001b[0m\u001b[0m\n\u001b[1;32m     93\u001b[0m         \u001b[0mprint\u001b[0m\u001b[0;34m(\u001b[0m\u001b[0;34m't: %f '\u001b[0m\u001b[0;34m%\u001b[0m\u001b[0mt\u001b[0m\u001b[0;34m,\u001b[0m \u001b[0;34m'T: %.1f'\u001b[0m\u001b[0;34m%\u001b[0m\u001b[0mT\u001b[0m\u001b[0;34m,\u001b[0m \u001b[0;34m'dt: %.1f'\u001b[0m\u001b[0;34m%\u001b[0m\u001b[0mk\u001b[0m\u001b[0;34m,\u001b[0m\u001b[0;34m'gnorm: %e'\u001b[0m\u001b[0;34m%\u001b[0m\u001b[0mgnorm\u001b[0m\u001b[0;34m,\u001b[0m\u001b[0;34m'Completed %.2f%%'\u001b[0m\u001b[0;34m%\u001b[0m\u001b[0;34m(\u001b[0m\u001b[0mfloat\u001b[0m\u001b[0;34m(\u001b[0m\u001b[0mt\u001b[0m\u001b[0;34m)\u001b[0m\u001b[0;34m/\u001b[0m\u001b[0mfloat\u001b[0m\u001b[0;34m(\u001b[0m\u001b[0mT\u001b[0m\u001b[0;34m+\u001b[0m\u001b[0mk\u001b[0m\u001b[0;34m)\u001b[0m\u001b[0;34m*\u001b[0m\u001b[0;36m100.0\u001b[0m\u001b[0;34m)\u001b[0m\u001b[0;34m)\u001b[0m\u001b[0;34m;\u001b[0m\u001b[0;34m\u001b[0m\u001b[0;34m\u001b[0m\u001b[0m\n\u001b[0;32m---> 94\u001b[0;31m     \u001b[0mft\u001b[0m \u001b[0;34m=\u001b[0m \u001b[0mFT\u001b[0m\u001b[0;34m(\u001b[0m\u001b[0mt\u001b[0m\u001b[0;34m,\u001b[0m \u001b[0mdelta\u001b[0m\u001b[0;34m,\u001b[0m \u001b[0mDelta\u001b[0m\u001b[0;34m,\u001b[0m\u001b[0;34m'PSGE'\u001b[0m\u001b[0;34m)\u001b[0m\u001b[0;34m;\u001b[0m\u001b[0;34m\u001b[0m\u001b[0;34m\u001b[0m\u001b[0m\n\u001b[0m\u001b[1;32m     95\u001b[0m     \u001b[0mL\u001b[0m \u001b[0;34m=\u001b[0m \u001b[0mThetaMethod_L\u001b[0m\u001b[0;34m(\u001b[0m\u001b[0mft_prev\u001b[0m\u001b[0;34m,\u001b[0m \u001b[0mgnorm\u001b[0m\u001b[0;34m,\u001b[0m \u001b[0mGX\u001b[0m\u001b[0;34m,\u001b[0m \u001b[0mu1r\u001b[0m\u001b[0;34m,\u001b[0m \u001b[0mu1i\u001b[0m\u001b[0;34m,\u001b[0m \u001b[0mv1r\u001b[0m\u001b[0;34m,\u001b[0m \u001b[0mv1i\u001b[0m\u001b[0;34m,\u001b[0m\u001b[0mk\u001b[0m\u001b[0;34m,\u001b[0m \u001b[0mK\u001b[0m\u001b[0;34m,\u001b[0m \u001b[0mtheta\u001b[0m\u001b[0;34m)\u001b[0m\u001b[0;34m;\u001b[0m\u001b[0;34m\u001b[0m\u001b[0;34m\u001b[0m\u001b[0m\n\u001b[1;32m     96\u001b[0m     \u001b[0mA\u001b[0m\u001b[0;34m=\u001b[0m\u001b[0mThetaMethod_A\u001b[0m\u001b[0;34m(\u001b[0m\u001b[0mft\u001b[0m\u001b[0;34m,\u001b[0m \u001b[0mgnorm\u001b[0m\u001b[0;34m,\u001b[0m \u001b[0mtheta\u001b[0m\u001b[0;34m,\u001b[0m \u001b[0mk\u001b[0m\u001b[0;34m,\u001b[0m \u001b[0mM\u001b[0m\u001b[0;34m,\u001b[0m \u001b[0mJ\u001b[0m\u001b[0;34m,\u001b[0m \u001b[0mS\u001b[0m\u001b[0;34m)\u001b[0m\u001b[0;34m\u001b[0m\u001b[0;34m\u001b[0m\u001b[0m\n",
            "\u001b[0;32m<ipython-input-22-b25b07e78b88>\u001b[0m in \u001b[0;36mFT\u001b[0;34m(t, delta, Delta, stype)\u001b[0m\n\u001b[1;32m     45\u001b[0m     \u001b[0mft1\u001b[0m \u001b[0;34m=\u001b[0m \u001b[0;36m1.0\u001b[0m\u001b[0;34m*\u001b[0m\u001b[0;34m(\u001b[0m\u001b[0mt\u001b[0m\u001b[0;34m>=\u001b[0m\u001b[0;36m0\u001b[0m \u001b[0;32mand\u001b[0m \u001b[0mt\u001b[0m\u001b[0;34m<\u001b[0m\u001b[0mdelta\u001b[0m\u001b[0;34m)\u001b[0m\u001b[0;34m\u001b[0m\u001b[0;34m\u001b[0m\u001b[0m\n\u001b[1;32m     46\u001b[0m     \u001b[0mft2\u001b[0m \u001b[0;34m=\u001b[0m \u001b[0;34m-\u001b[0m\u001b[0;36m1.0\u001b[0m\u001b[0;34m*\u001b[0m\u001b[0;34m(\u001b[0m\u001b[0mt\u001b[0m\u001b[0;34m>=\u001b[0m\u001b[0mDelta\u001b[0m \u001b[0;32mand\u001b[0m \u001b[0mt\u001b[0m\u001b[0;34m<=\u001b[0m\u001b[0mDelta\u001b[0m\u001b[0;34m+\u001b[0m\u001b[0mdelta\u001b[0m\u001b[0;34m)\u001b[0m\u001b[0;34m;\u001b[0m\u001b[0;34m\u001b[0m\u001b[0;34m\u001b[0m\u001b[0m\n\u001b[0;32m---> 47\u001b[0;31m   \u001b[0;32mreturn\u001b[0m \u001b[0mft1\u001b[0m \u001b[0;34m+\u001b[0m \u001b[0mft2\u001b[0m\u001b[0;34m;\u001b[0m\u001b[0;34m\u001b[0m\u001b[0;34m\u001b[0m\u001b[0m\n\u001b[0m\u001b[1;32m     48\u001b[0m \u001b[0;34m\u001b[0m\u001b[0m\n\u001b[1;32m     49\u001b[0m \u001b[0;31m## Theta method\u001b[0m\u001b[0;34m\u001b[0m\u001b[0;34m\u001b[0m\u001b[0;34m\u001b[0m\u001b[0m\n",
            "\u001b[0;31mUnboundLocalError\u001b[0m: local variable 'ft1' referenced before assignment"
          ]
        }
      ]
    }
  ]
}