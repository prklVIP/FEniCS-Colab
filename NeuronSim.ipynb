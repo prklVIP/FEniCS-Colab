{
  "nbformat": 4,
  "nbformat_minor": 0,
  "metadata": {
    "colab": {
      "name": "NeuronSim.ipynb",
      "version": "0.3.2",
      "provenance": [],
      "collapsed_sections": [
        "vS_YdSbqFOln",
        "9SJXe6I5JUwF",
        "r6GW2fwLE042"
      ],
      "toc_visible": true,
      "include_colab_link": true
    },
    "kernelspec": {
      "name": "python3",
      "display_name": "Python 3"
    },
    "accelerator": "GPU"
  },
  "cells": [
    {
      "cell_type": "markdown",
      "metadata": {
        "id": "view-in-github",
        "colab_type": "text"
      },
      "source": [
        "<a href=\"https://colab.research.google.com/github/van-dang/FEniCS-Colab/blob/master/NeuronSim.ipynb\" target=\"_parent\"><img src=\"https://colab.research.google.com/assets/colab-badge.svg\" alt=\"Open In Colab\"/></a>"
      ]
    },
    {
      "metadata": {
        "id": "vS_YdSbqFOln",
        "colab_type": "text"
      },
      "cell_type": "markdown",
      "source": [
        "# About the code"
      ]
    },
    {
      "metadata": {
        "id": "CiQ9r51xKgWh",
        "colab_type": "code",
        "colab": {}
      },
      "cell_type": "code",
      "source": [
        "# This demo solves the Bloch-Torrey equation applied to computational diffusion MRI using \n",
        "# the finite element method coupled with the theta-method for the spatial discretization.\n",
        "\n",
        "# The scope of usage: \n",
        "# (1) one single domain, (2) pure homogeneous Neumann, (3) Allow surface diffusion \n",
        "\n",
        "# Copyright (C) 2017 Van-Dang Nguyen (vdnguyen@kth.se)\n",
        "\n",
        "# This file is part of DOLFIN.\n",
        "\n",
        "# DOLFIN is free software: you can redistribute it and/or modify\n",
        "# it under the terms of the GNU Lesser General Public License as published by\n",
        "# the Free Software Foundation, either version 3 of the License, or\n",
        "# (at your option) any later version.\n",
        "\n",
        "# DOLFIN is distributed in the hope that it will be useful,\n",
        "# but WITHOUT ANY WARRANTY; without even the implied warranty of\n",
        "# MERCHANTABILITY or FITNESS FOR A PARTICULAR PURPOSE. See the\n",
        "# GNU Lesser General Public License for more details.\n",
        "\n",
        "# You should have received a copy of the GNU Lesser General Public License\n",
        "# along with DOLFIN. If not, see <http://www.gnu.org/licenses/>.\n",
        "\n",
        "# First added:  2017-10-10\n",
        "# Last changed: 2019-02-28\n",
        "\n",
        "# This demo is maintained by Van-Dang Nguyen\n",
        "# Please report problems to vdnguyen@kth.se"
      ],
      "execution_count": 0,
      "outputs": []
    },
    {
      "metadata": {
        "id": "9SJXe6I5JUwF",
        "colab_type": "text"
      },
      "cell_type": "markdown",
      "source": [
        "# Setting a working environment with FEniCS"
      ]
    },
    {
      "metadata": {
        "id": "4jWzVxURFVLj",
        "colab_type": "code",
        "outputId": "3dfec544-10ca-41b4-dd07-3e82e882c557",
        "colab": {
          "base_uri": "https://localhost:8080/",
          "height": 63
        }
      },
      "cell_type": "code",
      "source": [
        "from google.colab import files\n",
        "\n",
        "import platform, sys\n",
        "python_version=platform.python_version()\n",
        "from distutils.version import LooseVersion, StrictVersion\n",
        "\n",
        "if ( LooseVersion(python_version) < LooseVersion(\"3.0.0\")):\n",
        "    print(\"Python3 is needed!\");\n",
        "    print(\"How to fix: Runtime/Change_runtime_type/Python 3\");\n",
        "    sys.exit()\n",
        "    \n",
        "try:\n",
        "    from dolfin import *; from mshr import *\n",
        "except ImportError as e:\n",
        "    !apt-get install -y -qq software-properties-common python-software-properties module-init-tools\n",
        "    !add-apt-repository -y ppa:fenics-packages/fenics\n",
        "    !apt-get update -qq\n",
        "    !apt install -y --no-install-recommends fenics\n",
        "    from dolfin import *; from mshr import *\n",
        "    \n",
        "import matplotlib.pyplot as plt;\n",
        "from IPython.display import clear_output, display; import time; import dolfin.common.plotting as fenicsplot \n",
        "import time\n",
        "\n",
        "import os, sys, shutil\n",
        "\n",
        "dolfin_version = dolfin.__version__\n",
        "print ('dolfin version:', dolfin_version)\n",
        "\n",
        "!rm -rf * # clean up all files\n",
        "# Useful commands\n",
        "# Remove an empty folder      : os.rmdir(\"my_results\")\n",
        "# Remove a folder with files  : shutil.rmtree(\"results\")\n",
        "# Make a folder               : os.mkdir(\"my_results\")\n",
        "# Runtime/Change_runtime_type/Python3"
      ],
      "execution_count": 9,
      "outputs": [
        {
          "output_type": "stream",
          "text": [
            "dolfin version: 2018.1.0\n"
          ],
          "name": "stdout"
        }
      ]
    },
    {
      "metadata": {
        "id": "GldJAdpzE-E9",
        "colab_type": "text"
      },
      "cell_type": "markdown",
      "source": [
        "# Define some parameters"
      ]
    },
    {
      "metadata": {
        "id": "nwbAVWzayUC_",
        "colab_type": "code",
        "colab": {}
      },
      "cell_type": "code",
      "source": [
        "bvalue = 5000;             # bvalue\n",
        "delta, Delta = 40000, 40000 # PGSE sequence\n",
        "g0, g1, g2 = 1, 0, 0;       # gradient direction\n",
        "K = 3e-3;                   # Diffusion coefficient\n",
        "nskip = 5;                  # Output frequency (for visualization only)\n",
        "porder = 1;                 # order of basis functions of FEM\n",
        "Nsteps = 200;               # number of time intervals"
      ],
      "execution_count": 0,
      "outputs": []
    },
    {
      "metadata": {
        "id": "r6GW2fwLE042",
        "colab_type": "text"
      },
      "cell_type": "markdown",
      "source": [
        "# Download the manifold mesh of a realistic neuron"
      ]
    },
    {
      "metadata": {
        "id": "ksCOgH6e6d8e",
        "colab_type": "code",
        "outputId": "f343693b-b1c2-41cd-e7ef-a20bde015d5c",
        "colab": {
          "base_uri": "https://localhost:8080/",
          "height": 313
        }
      },
      "cell_type": "code",
      "source": [
        "!rm -rf *\n",
        "neuron_list=[\n",
        "'03b_spindle4aACC.xml' ,\n",
        "'03b_spindle5aACC.xml' ,\n",
        "'03b_spindle6aACC.xml' ,\n",
        "'03b_spindle7aACC.xml' ,\n",
        "'06b_spindle8aACC.xml' ,\n",
        "'07b_spindle9aACC.xml' ,\n",
        "'08a_spindle13aACC.xml',\n",
        "'10a_spindle18aACC.xml',\n",
        "'12a_spindle19aACC.xml',  \n",
        "];\n",
        "neuron_id = 1;\n",
        "neuron_dir='https://raw.githubusercontent.com/van-dang/NeuronDataBase/master/spindle/ACC/'+neuron_list[neuron_id]\n",
        "!wget $neuron_dir\n",
        "mesh = Mesh(neuron_list[neuron_id]);\n",
        "gdim = mesh.geometry().dim()\n",
        "print('Mesh size: #vertices: '+str(mesh.num_vertices()) +', #elements: '+str(mesh.num_vertices()) );"
      ],
      "execution_count": 47,
      "outputs": [
        {
          "output_type": "stream",
          "text": [
            "--2019-02-28 13:19:17--  https://raw.githubusercontent.com/van-dang/NeuronDataBase/master/spindle/ACC/03b_spindle5aACC.xml\n",
            "Resolving raw.githubusercontent.com (raw.githubusercontent.com)... 151.101.0.133, 151.101.64.133, 151.101.128.133, ...\n",
            "Connecting to raw.githubusercontent.com (raw.githubusercontent.com)|151.101.0.133|:443... connected.\n",
            "HTTP request sent, awaiting response... 200 OK\n",
            "Length: 35925241 (34M) [text/plain]\n",
            "Saving to: ‘03b_spindle5aACC.xml’\n",
            "\n",
            "\r03b_spindle5aACC.xm   0%[                    ]       0  --.-KB/s               \r03b_spindle5aACC.xm  74%[=============>      ]  25.54M   128MB/s               \r03b_spindle5aACC.xm 100%[===================>]  34.26M   144MB/s    in 0.2s    \n",
            "\n",
            "2019-02-28 13:19:18 (144 MB/s) - ‘03b_spindle5aACC.xml’ saved [35925241/35925241]\n",
            "\n",
            "Mesh size: #vertices: 78594, #elements: 78594\n"
          ],
          "name": "stdout"
        }
      ]
    },
    {
      "metadata": {
        "id": "aFEvif9PF2yH",
        "colab_type": "text"
      },
      "cell_type": "markdown",
      "source": [
        "# Solve the Bloch-Torrey equation"
      ]
    },
    {
      "metadata": {
        "id": "DYZ5SWlw69tQ",
        "colab_type": "code",
        "outputId": "1f6c0483-7790-42be-a108-462be9daa4a0",
        "colab": {
          "base_uri": "https://localhost:8080/",
          "height": 1133
        }
      },
      "cell_type": "code",
      "source": [
        "# from mpl_toolkits.mplot3d import Axes3D\n",
        "\n",
        "if (Delta-delta/3.0<=0):\n",
        "    print('Check time sequence!');\n",
        "    exit(0);\n",
        "gnorm = sqrt(bvalue)/sqrt(delta*delta*(Delta-delta/3.0));\n",
        "t, T = 0, Delta+delta;\n",
        "\n",
        "## FUNCTION SPACES\n",
        "if dolfin_version=='1.6.0':\n",
        "    V = FunctionSpace(mesh , \"CG\", porder); # order 1, 2 components\n",
        "    W = MixedFunctionSpace([V, V])\n",
        "else:\n",
        "    # For FEniCS 2016, 2017\n",
        "    Ve = FiniteElement(\"CG\", mesh.ufl_cell(), porder)\n",
        "    V = FunctionSpace(mesh,Ve);\n",
        "    TH = MixedElement([Ve,Ve])\n",
        "    W = FunctionSpace(mesh, TH)\n",
        "\n",
        "v = TestFunction(W)\n",
        "v1r, v1i = v[0], v[1]\n",
        "\n",
        "u = TrialFunction(W);\n",
        "u1r, u1i = u[0], u[1]\n",
        "\n",
        "# Initial conditions\n",
        "if (gdim==2):\n",
        "  Dirac_Delta = Expression(\"x[0]*x[0]+x[1]*x[1]<eps\",eps=1e6, domain=mesh, degree=2);\n",
        "if (gdim==3):\n",
        "  Dirac_Delta = Expression(\"x[0]*x[0]+x[1]*x[1]+x[2]*x[2]<eps\",eps=1e6, domain=mesh, degree=2);\n",
        "Dirac_Delta = project(Dirac_Delta, V);\n",
        "u_0 = Function(W);\n",
        "assign(u_0.sub(0), Dirac_Delta)\n",
        "u1r_0, u1i_0 = split(u_0)\n",
        "\n",
        "if (gdim==2):\n",
        "  GX=Expression(\"x[0]*g0+x[1]*g1\", g0=g0, g1=g1, domain=mesh, degree=3);\n",
        "if (gdim==3):\n",
        "  GX=Expression(\"x[0]*g0+x[1]*g1+x[2]*g2\", g0=g0, g1=g1, g2=g2, domain=mesh, degree=3);\n",
        "\n",
        "def FT(t, delta, Delta):\n",
        "    ft1 = 1.0*(t>=0 and t<delta) \n",
        "    ft2 = -1.0*(t>=Delta and t<=Delta+delta);\n",
        "    return ft1 + ft2;  \n",
        "\n",
        "def iFT(t, delta, Delta): # integrate ft\n",
        "    ft1 = t*(t>=0 and t<delta) \n",
        "    ft2 = delta*(t>=delta and t<Delta) \n",
        "    ft3 = (delta - t + Delta)*(t>=Delta and t<=Delta+delta) \n",
        "    return ft1 + ft2 + ft3;  \n",
        "stepcounter = 0;\n",
        "\n",
        "## Theta method\n",
        "def FuncF(ft, gnorm, GX, ur, ui, vr, vi, K):\n",
        "    Fr = ft*gnorm*GX*ui*vr - K*inner(grad(ur), grad(vr))\n",
        "    Fi = - ft*gnorm*GX*ur*vi - K*inner(grad(ui), grad(vi))\n",
        "    return Fr + Fi\n",
        "\n",
        "def ThetaMethod_L(ft, gnorm, GX, u1r, u1i, v1r, v1i,k, K, theta):\n",
        "    L1 = (u1r_0/k*v1r +u1i_0/k*v1i+(1-theta)*FuncF(ft, gnorm, GX, u1r_0, u1i_0, v1r, v1i, K))*dx\n",
        "    return L1\n",
        "\n",
        "def ThetaMethod_a(ft, gnorm, GX, u1r, u1i, v1r, v1i,k, K, theta):\n",
        "    a1 = (u1r/k*v1r   + u1i/k*v1i  -theta*FuncF(ft, gnorm, GX, u1r  , u1i  , v1r, v1i, K))*dx\n",
        "    return a1\n",
        "\n",
        "def NoTimeMatrices(u1r, u1i, v1r, v1i, K, GX, theta):\n",
        "    m1 = (u1r*v1r   + u1i*v1i)*dx\n",
        "    M = assemble(m1);\n",
        "    j1 = -GX*(u1i*v1r   - u1r*v1i)*dx\n",
        "    J = assemble(j1);    \n",
        "    s1 = K*( inner(grad(u1r), grad(v1r)) + inner(grad(u1i), grad(v1i)) )*dx\n",
        "    S = assemble(s1)\n",
        "    return M, J, S\n",
        "\n",
        "def ThetaMethod_A(ft, gnorm, theta, k, M, J, S):\n",
        "    return 1./k*M + ft*gnorm*theta*J + theta*S\n",
        "\n",
        "theta = 0.5;\n",
        "\n",
        "k = T/Nsteps;\n",
        "\n",
        "hmin = mesh.hmin();\n",
        "\n",
        "# h = CellSize(mesh);\n",
        "h=Circumradius(mesh);\n",
        "\n",
        "print('mesh.hmin: ', hmin,'mesh.hmax: ',mesh.hmax());\n",
        "\n",
        "M, J, S = NoTimeMatrices(u1r, u1i, v1r, v1i, K, GX, theta);\n",
        "\n",
        "stepcounter = 0;\n",
        "\n",
        "ft_prev = FT(t, delta, Delta);\n",
        "\n",
        "while t < T + k: # Time-stepping loop\n",
        "    if stepcounter % nskip == 0:\n",
        "        print('t: %f '%t, 'T: %.1f'%T, 'dt:%.1f'%k,'gnorm: %e'%gnorm,'Completed %.2f%%'%(float(t)/float(T+k)*100.0));\n",
        "    ft = FT(t, delta, Delta);\n",
        "    ift = iFT(t, delta, Delta);\n",
        "    L = ThetaMethod_L(ft_prev, gnorm, GX, u1r, u1i, v1r, v1i,k, K, theta);\n",
        "    # A = ThetaMethod_A(ft, gnorm, theta, k, M, J, S);\n",
        "    a = ThetaMethod_a(ft, gnorm, GX, u1r, u1i, v1r, v1i,k, K, theta);\n",
        "    A = assemble(a);\n",
        "    b = assemble(L);\n",
        "    u = Function(W)\n",
        "    solve(A,u.vector(),b, \"gmres\", \"ilu\");\n",
        "    u1r_0, u1i_0 = split(u)\n",
        "    ft_prev = ft;\n",
        "    t += k;\n",
        "    stepcounter += 1;\n",
        "\n",
        "signal = assemble(u1r_0*dx)/assemble(Dirac_Delta*dx);\n",
        "print('b:',bvalue, 'Signal: %.3e'%signal,', dt:',k,', hmin:',hmin)\n",
        "\n",
        "\n",
        "u1r_0p = project(u1r_0, V);\n",
        "u1i_0p = project(u1i_0, V);\n",
        "\n",
        "File('RealSol.pvd')<<u1r_0p;\n",
        "File('ImagSol.pvd')<<u1i_0p;\n"
      ],
      "execution_count": 25,
      "outputs": [
        {
          "output_type": "stream",
          "text": [
            "  Calling FFC just-in-time (JIT) compiler, this may take some time.\n",
            "  Calling FFC just-in-time (JIT) compiler, this may take some time.\n",
            "mesh.hmin:  0.06173863225385655 mesh.hmax:  2.857499673168696\n",
            "  Calling FFC just-in-time (JIT) compiler, this may take some time.\n",
            "  Calling FFC just-in-time (JIT) compiler, this may take some time.\n",
            "  Calling FFC just-in-time (JIT) compiler, this may take some time.\n",
            "  Calling FFC just-in-time (JIT) compiler, this may take some time.\n",
            "  Calling FFC just-in-time (JIT) compiler, this may take some time.\n",
            "t: 0.000000  T: 80000.0 dt:400.0 gnorm: 1.082532e-05 Completed 0.00%\n",
            "  Calling FFC just-in-time (JIT) compiler, this may take some time.\n",
            "  Calling FFC just-in-time (JIT) compiler, this may take some time.\n",
            "  Calling FFC just-in-time (JIT) compiler, this may take some time.\n",
            "t: 2000.000000  T: 80000.0 dt:400.0 gnorm: 1.082532e-05 Completed 2.49%\n",
            "t: 4000.000000  T: 80000.0 dt:400.0 gnorm: 1.082532e-05 Completed 4.98%\n",
            "t: 6000.000000  T: 80000.0 dt:400.0 gnorm: 1.082532e-05 Completed 7.46%\n",
            "t: 8000.000000  T: 80000.0 dt:400.0 gnorm: 1.082532e-05 Completed 9.95%\n",
            "t: 10000.000000  T: 80000.0 dt:400.0 gnorm: 1.082532e-05 Completed 12.44%\n",
            "t: 12000.000000  T: 80000.0 dt:400.0 gnorm: 1.082532e-05 Completed 14.93%\n",
            "t: 14000.000000  T: 80000.0 dt:400.0 gnorm: 1.082532e-05 Completed 17.41%\n",
            "t: 16000.000000  T: 80000.0 dt:400.0 gnorm: 1.082532e-05 Completed 19.90%\n",
            "t: 18000.000000  T: 80000.0 dt:400.0 gnorm: 1.082532e-05 Completed 22.39%\n",
            "t: 20000.000000  T: 80000.0 dt:400.0 gnorm: 1.082532e-05 Completed 24.88%\n",
            "t: 22000.000000  T: 80000.0 dt:400.0 gnorm: 1.082532e-05 Completed 27.36%\n",
            "t: 24000.000000  T: 80000.0 dt:400.0 gnorm: 1.082532e-05 Completed 29.85%\n",
            "t: 26000.000000  T: 80000.0 dt:400.0 gnorm: 1.082532e-05 Completed 32.34%\n",
            "t: 28000.000000  T: 80000.0 dt:400.0 gnorm: 1.082532e-05 Completed 34.83%\n",
            "t: 30000.000000  T: 80000.0 dt:400.0 gnorm: 1.082532e-05 Completed 37.31%\n",
            "t: 32000.000000  T: 80000.0 dt:400.0 gnorm: 1.082532e-05 Completed 39.80%\n",
            "t: 34000.000000  T: 80000.0 dt:400.0 gnorm: 1.082532e-05 Completed 42.29%\n",
            "t: 36000.000000  T: 80000.0 dt:400.0 gnorm: 1.082532e-05 Completed 44.78%\n",
            "t: 38000.000000  T: 80000.0 dt:400.0 gnorm: 1.082532e-05 Completed 47.26%\n",
            "t: 40000.000000  T: 80000.0 dt:400.0 gnorm: 1.082532e-05 Completed 49.75%\n",
            "  Calling FFC just-in-time (JIT) compiler, this may take some time.\n",
            "  Calling FFC just-in-time (JIT) compiler, this may take some time.\n",
            "t: 42000.000000  T: 80000.0 dt:400.0 gnorm: 1.082532e-05 Completed 52.24%\n",
            "t: 44000.000000  T: 80000.0 dt:400.0 gnorm: 1.082532e-05 Completed 54.73%\n",
            "t: 46000.000000  T: 80000.0 dt:400.0 gnorm: 1.082532e-05 Completed 57.21%\n",
            "t: 48000.000000  T: 80000.0 dt:400.0 gnorm: 1.082532e-05 Completed 59.70%\n",
            "t: 50000.000000  T: 80000.0 dt:400.0 gnorm: 1.082532e-05 Completed 62.19%\n",
            "t: 52000.000000  T: 80000.0 dt:400.0 gnorm: 1.082532e-05 Completed 64.68%\n",
            "t: 54000.000000  T: 80000.0 dt:400.0 gnorm: 1.082532e-05 Completed 67.16%\n"
          ],
          "name": "stdout"
        },
        {
          "output_type": "error",
          "ename": "KeyboardInterrupt",
          "evalue": "ignored",
          "traceback": [
            "\u001b[0;31m---------------------------------------------------------------------------\u001b[0m",
            "\u001b[0;31mKeyboardInterrupt\u001b[0m                         Traceback (most recent call last)",
            "\u001b[0;32m<ipython-input-25-16ddf8653028>\u001b[0m in \u001b[0;36m<module>\u001b[0;34m()\u001b[0m\n\u001b[1;32m    104\u001b[0m     \u001b[0mb\u001b[0m \u001b[0;34m=\u001b[0m \u001b[0massemble\u001b[0m\u001b[0;34m(\u001b[0m\u001b[0mL\u001b[0m\u001b[0;34m)\u001b[0m\u001b[0;34m;\u001b[0m\u001b[0;34m\u001b[0m\u001b[0;34m\u001b[0m\u001b[0m\n\u001b[1;32m    105\u001b[0m     \u001b[0mu\u001b[0m \u001b[0;34m=\u001b[0m \u001b[0mFunction\u001b[0m\u001b[0;34m(\u001b[0m\u001b[0mW\u001b[0m\u001b[0;34m)\u001b[0m\u001b[0;34m\u001b[0m\u001b[0;34m\u001b[0m\u001b[0m\n\u001b[0;32m--> 106\u001b[0;31m     \u001b[0msolve\u001b[0m\u001b[0;34m(\u001b[0m\u001b[0mA\u001b[0m\u001b[0;34m,\u001b[0m\u001b[0mu\u001b[0m\u001b[0;34m.\u001b[0m\u001b[0mvector\u001b[0m\u001b[0;34m(\u001b[0m\u001b[0;34m)\u001b[0m\u001b[0;34m,\u001b[0m\u001b[0mb\u001b[0m\u001b[0;34m,\u001b[0m \u001b[0;34m\"gmres\"\u001b[0m\u001b[0;34m,\u001b[0m \u001b[0;34m\"ilu\"\u001b[0m\u001b[0;34m)\u001b[0m\u001b[0;34m;\u001b[0m\u001b[0;34m\u001b[0m\u001b[0;34m\u001b[0m\u001b[0m\n\u001b[0m\u001b[1;32m    107\u001b[0m     \u001b[0mu1r_0\u001b[0m\u001b[0;34m,\u001b[0m \u001b[0mu1i_0\u001b[0m \u001b[0;34m=\u001b[0m \u001b[0msplit\u001b[0m\u001b[0;34m(\u001b[0m\u001b[0mu\u001b[0m\u001b[0;34m)\u001b[0m\u001b[0;34m\u001b[0m\u001b[0;34m\u001b[0m\u001b[0m\n\u001b[1;32m    108\u001b[0m     \u001b[0mft_prev\u001b[0m \u001b[0;34m=\u001b[0m \u001b[0mft\u001b[0m\u001b[0;34m;\u001b[0m\u001b[0;34m\u001b[0m\u001b[0;34m\u001b[0m\u001b[0m\n",
            "\u001b[0;32m/usr/lib/python3/dist-packages/dolfin/fem/solving.py\u001b[0m in \u001b[0;36msolve\u001b[0;34m(*args, **kwargs)\u001b[0m\n\u001b[1;32m    225\u001b[0m             \u001b[0;32mraise\u001b[0m \u001b[0mRuntimeError\u001b[0m\u001b[0;34m(\u001b[0m\u001b[0;34m\"Not expecting keyword arguments when solving linear algebra problem.\"\u001b[0m\u001b[0;34m)\u001b[0m\u001b[0;34m\u001b[0m\u001b[0;34m\u001b[0m\u001b[0m\n\u001b[1;32m    226\u001b[0m \u001b[0;34m\u001b[0m\u001b[0m\n\u001b[0;32m--> 227\u001b[0;31m         \u001b[0;32mreturn\u001b[0m \u001b[0mdolfin\u001b[0m\u001b[0;34m.\u001b[0m\u001b[0mla\u001b[0m\u001b[0;34m.\u001b[0m\u001b[0msolver\u001b[0m\u001b[0;34m.\u001b[0m\u001b[0msolve\u001b[0m\u001b[0;34m(\u001b[0m\u001b[0;34m*\u001b[0m\u001b[0margs\u001b[0m\u001b[0;34m)\u001b[0m\u001b[0;34m\u001b[0m\u001b[0;34m\u001b[0m\u001b[0m\n\u001b[0m\u001b[1;32m    228\u001b[0m \u001b[0;34m\u001b[0m\u001b[0m\n\u001b[1;32m    229\u001b[0m \u001b[0;34m\u001b[0m\u001b[0m\n",
            "\u001b[0;32m/usr/lib/python3/dist-packages/dolfin/la/solver.py\u001b[0m in \u001b[0;36msolve\u001b[0;34m(A, x, b, method, preconditioner)\u001b[0m\n\u001b[1;32m     70\u001b[0m     \"\"\"\n\u001b[1;32m     71\u001b[0m \u001b[0;34m\u001b[0m\u001b[0m\n\u001b[0;32m---> 72\u001b[0;31m     \u001b[0;32mreturn\u001b[0m \u001b[0mcpp\u001b[0m\u001b[0;34m.\u001b[0m\u001b[0mla\u001b[0m\u001b[0;34m.\u001b[0m\u001b[0msolve\u001b[0m\u001b[0;34m(\u001b[0m\u001b[0mA\u001b[0m\u001b[0;34m,\u001b[0m \u001b[0mx\u001b[0m\u001b[0;34m,\u001b[0m \u001b[0mb\u001b[0m\u001b[0;34m,\u001b[0m \u001b[0mmethod\u001b[0m\u001b[0;34m,\u001b[0m \u001b[0mpreconditioner\u001b[0m\u001b[0;34m)\u001b[0m\u001b[0;34m\u001b[0m\u001b[0;34m\u001b[0m\u001b[0m\n\u001b[0m",
            "\u001b[0;31mKeyboardInterrupt\u001b[0m: "
          ]
        }
      ]
    },
    {
      "metadata": {
        "id": "T6Ztr4lR745X",
        "colab_type": "text"
      },
      "cell_type": "markdown",
      "source": [
        "# Visualizing solutions with Paraview\n",
        " ![alt text](https://www.csc.kth.se/~vdnguyen/images/sol_realneuron.png)"
      ]
    }
  ]
}