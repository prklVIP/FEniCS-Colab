{
  "nbformat": 4,
  "nbformat_minor": 0,
  "metadata": {
    "colab": {
      "name": "tensorflow.ipynb",
      "version": "0.3.2",
      "provenance": [],
      "include_colab_link": true
    },
    "kernelspec": {
      "name": "python3",
      "display_name": "Python 3"
    }
  },
  "cells": [
    {
      "cell_type": "markdown",
      "metadata": {
        "id": "view-in-github",
        "colab_type": "text"
      },
      "source": [
        "<a href=\"https://colab.research.google.com/github/van-dang/FEniCS-Colab/blob/master/tensorflow.ipynb\" target=\"_parent\"><img src=\"https://colab.research.google.com/assets/colab-badge.svg\" alt=\"Open In Colab\"/></a>"
      ]
    },
    {
      "metadata": {
        "id": "UnpDmvqvugES",
        "colab_type": "text"
      },
      "cell_type": "markdown",
      "source": [
        "Import the relevant libraries"
      ]
    },
    {
      "metadata": {
        "id": "9BL-z8s_ugtN",
        "colab_type": "code",
        "colab": {}
      },
      "cell_type": "code",
      "source": [
        "import numpy as np; \n",
        "import matplotlib.pyplot as plt; # Nice 2D plot\n",
        "from mpl_toolkits.mplot3d import Axes3D; # nice 3D graph"
      ],
      "execution_count": 0,
      "outputs": []
    }
  ]
}