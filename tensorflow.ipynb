{
  "nbformat": 4,
  "nbformat_minor": 0,
  "metadata": {
    "colab": {
      "name": "tensorflow.ipynb",
      "version": "0.3.2",
      "provenance": [],
      "include_colab_link": true
    },
    "kernelspec": {
      "name": "python3",
      "display_name": "Python 3"
    }
  },
  "cells": [
    {
      "cell_type": "markdown",
      "metadata": {
        "id": "view-in-github",
        "colab_type": "text"
      },
      "source": [
        "<a href=\"https://colab.research.google.com/github/van-dang/FEniCS-Colab/blob/master/tensorflow.ipynb\" target=\"_parent\"><img src=\"https://colab.research.google.com/assets/colab-badge.svg\" alt=\"Open In Colab\"/></a>"
      ]
    },
    {
      "metadata": {
        "id": "UnpDmvqvugES",
        "colab_type": "text"
      },
      "cell_type": "markdown",
      "source": [
        "Import the relevant libraries"
      ]
    },
    {
      "metadata": {
        "id": "9BL-z8s_ugtN",
        "colab_type": "code",
        "colab": {}
      },
      "cell_type": "code",
      "source": [
        "import numpy as np; \n",
        "import matplotlib.pyplot as plt; # Nice 2D plot\n",
        "from mpl_toolkits.mplot3d import Axes3D; # nice 3D graph"
      ],
      "execution_count": 0,
      "outputs": []
    },
    {
      "metadata": {
        "id": "f9BiCzFLvylm",
        "colab_type": "text"
      },
      "cell_type": "markdown",
      "source": [
        "Generate romdom data"
      ]
    },
    {
      "metadata": {
        "id": "EXjxrmbyv18Z",
        "colab_type": "code",
        "colab": {
          "base_uri": "https://localhost:8080/",
          "height": 136
        },
        "outputId": "c876feea-c8ad-4d27-dd86-f106d539dd7d"
      },
      "cell_type": "code",
      "source": [
        "observations = 1000;\n",
        "xs = np.random.uniform(low=-10, high=10, size=(observations,1))\n",
        "zs = np.random.uniform(low=-10, high=10, size=(observations,1))\n",
        "inputs = np.column_stack((xs,zs))\n",
        "print(inputs)"
      ],
      "execution_count": 9,
      "outputs": [
        {
          "output_type": "stream",
          "text": [
            "[[-9.01315203  3.23426648]\n",
            " [-5.81883909  2.96877042]\n",
            " [-1.05406901  0.76652409]\n",
            " ...\n",
            " [ 3.42706056 -0.76290016]\n",
            " [ 2.50657378 -7.70551251]\n",
            " [ 4.09738029  3.91993061]]\n"
          ],
          "name": "stdout"
        }
      ]
    }
  ]
}