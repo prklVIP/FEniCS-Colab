{
  "nbformat": 4,
  "nbformat_minor": 0,
  "metadata": {
    "colab": {
      "name": "Minimal_example_All_Exercises.ipynb",
      "version": "0.3.2",
      "provenance": [],
      "include_colab_link": true
    },
    "kernelspec": {
      "display_name": "Python 3",
      "language": "python",
      "name": "python3"
    }
  },
  "cells": [
    {
      "cell_type": "markdown",
      "metadata": {
        "id": "view-in-github",
        "colab_type": "text"
      },
      "source": [
        "<a href=\"https://colab.research.google.com/github/van-dang/FEniCS-Colab/blob/master/Minimal_example_All_Exercises.ipynb\" target=\"_parent\"><img src=\"https://colab.research.google.com/assets/colab-badge.svg\" alt=\"Open In Colab\"/></a>"
      ]
    },
    {
      "metadata": {
        "id": "kIowEFXqQkfl",
        "colab_type": "text"
      },
      "cell_type": "markdown",
      "source": [
        "# Simple Linear Regression. Minimal example"
      ]
    },
    {
      "metadata": {
        "id": "cgCK4j8iQkfm",
        "colab_type": "text"
      },
      "cell_type": "markdown",
      "source": [
        "# Using the same code as before, please solve the following exercises\n",
        "    1. Change the number of observations to 100,000 and see what happens.\n",
        "    2. Change the number of observations to 1,000,000 and see what happens.\n",
        "    3. Play around with the learning rate. Values like 0.0001, 0.001, 0.1, 1 are all interesting to observe. \n",
        "    4. Change the loss function. L2-norm loss (without dividing by 2) is a good way to start. \n",
        "    5. Тry with the L1-norm loss, given by the sum of the ABSOLUTE value of yj - tj. The L1-norm loss is given by:\n",
        "## $$ \\Sigma_i = |y_i-t_i| $$\n",
        "    6. Create a function f(x,z) = 13*xs + 7*zs - 12. Does the algorithm work in the same way?\n",
        "    \n",
        "    \n",
        "Useful tip: When you change something, don't forget to RERUN all cells. This can be done easily by clicking:\n",
        "Kernel -> Restart & Run All\n",
        "If you don't do that, your algorithm will keep the OLD values of all parameters.\n",
        "\n",
        "You can either use this file for all the exercises, or check the solutions of EACH ONE of them in the separate files we have provided. All other files are solutions of each problem. If you feel confident enough, you can simply change values in this file. Please note that it will be nice, if you return the file to starting position after you have solved a problem, so you can use the lecture as a basis for comparison."
      ]
    },
    {
      "metadata": {
        "id": "uUM67dZGQkfn",
        "colab_type": "text"
      },
      "cell_type": "markdown",
      "source": [
        "### Import the relevant libraries"
      ]
    },
    {
      "metadata": {
        "id": "ochy9rYeQkfo",
        "colab_type": "code",
        "colab": {}
      },
      "cell_type": "code",
      "source": [
        "# We must always import the relevant libraries for our problem at hand. NumPy is a must for this example.\n",
        "import numpy as np\n",
        "\n",
        "# matplotlib and mpl_toolkits are not necessary. We employ them for the sole purpose of visualizing the results.  \n",
        "import matplotlib.pyplot as plt\n",
        "from mpl_toolkits.mplot3d import Axes3D"
      ],
      "execution_count": 0,
      "outputs": []
    },
    {
      "metadata": {
        "id": "fzKni5NOQkfr",
        "colab_type": "text"
      },
      "cell_type": "markdown",
      "source": [
        "### Generate random input data to train on"
      ]
    },
    {
      "metadata": {
        "scrolled": false,
        "id": "x_dQBXHAQkfr",
        "colab_type": "code",
        "colab": {
          "base_uri": "https://localhost:8080/",
          "height": 34
        },
        "outputId": "d446c6a8-52f2-4899-aef7-1726f3528809"
      },
      "cell_type": "code",
      "source": [
        "# First, we should declare a variable containing the size of the training set we want to generate.\n",
        "observations = 100000\n",
        "\n",
        "# We will work with two variables as inputs. You can think about them as x1 and x2 in our previous examples.\n",
        "# We have picked x and z, since it is easier to differentiate them.\n",
        "# We generate them randomly, drawing from an uniform distribution. There are 3 arguments of this method (low, high, size).\n",
        "# The size of xs and zs is observations by 1. In this case: 1000 x 1.\n",
        "xs = np.random.uniform(low=-10, high=10, size=(observations,1))\n",
        "zs = np.random.uniform(-10, 10, (observations,1))\n",
        "\n",
        "# Combine the two dimensions of the input into one input matrix. \n",
        "# This is the X matrix from the linear model y = x*w + b.\n",
        "# column_stack is a Numpy method, which combines two vectors into a matrix. Alternatives are stack, dstack, hstack, etc.\n",
        "inputs = np.column_stack((xs,zs))\n",
        "\n",
        "# Check if the dimensions of the inputs are the same as the ones we defined in the linear model lectures. \n",
        "# They should be n x k, where n is the number of observations, and k is the number of variables, so 1000 x 2.\n",
        "print (inputs.shape)"
      ],
      "execution_count": 97,
      "outputs": [
        {
          "output_type": "stream",
          "text": [
            "(100000, 2)\n"
          ],
          "name": "stdout"
        }
      ]
    },
    {
      "metadata": {
        "id": "FuEhwZoZQkfu",
        "colab_type": "text"
      },
      "cell_type": "markdown",
      "source": [
        "### Generate the targets we will aim at"
      ]
    },
    {
      "metadata": {
        "id": "wE5xQUsbQkfu",
        "colab_type": "code",
        "colab": {
          "base_uri": "https://localhost:8080/",
          "height": 34
        },
        "outputId": "bf9fa5b3-c7d6-4d3e-b83e-9a49f3676109"
      },
      "cell_type": "code",
      "source": [
        "# We want to \"make up\" a function, use the ML methodology, and see if the algorithm has learned it.\n",
        "# We add a small random noise to the function i.e. f(x,z) = 2x - 3z + 5 + <small noise>\n",
        "noise = np.random.uniform(-1, 1, (observations,1))\n",
        "\n",
        "# Produce the targets according to the f(x,z) = 2x - 3z + 5 + noise definition.\n",
        "# In this way, we are basically saying: the weights should be 2 and -3, while the bias is 5.\n",
        "targets = 2*xs - 3*zs + 5 + noise\n",
        "\n",
        "# Check the shape of the targets just in case. It should be n x m, where m is the number of output variables, so 1000 x 1.\n",
        "print (targets.shape)"
      ],
      "execution_count": 98,
      "outputs": [
        {
          "output_type": "stream",
          "text": [
            "(100000, 1)\n"
          ],
          "name": "stdout"
        }
      ]
    },
    {
      "metadata": {
        "id": "YdFlRVgTQkfw",
        "colab_type": "text"
      },
      "cell_type": "markdown",
      "source": [
        "### Plot the training data\n",
        "The point is to see that there is a strong trend that our model should learn to reproduce."
      ]
    },
    {
      "metadata": {
        "id": "aWgIlCmkQkfx",
        "colab_type": "code",
        "colab": {
          "base_uri": "https://localhost:8080/",
          "height": 330
        },
        "outputId": "6b7019e9-4178-4ed7-b67a-af730c1911f4"
      },
      "cell_type": "code",
      "source": [
        "# In order to use the 3D plot, the objects should have a certain shape, so we reshape the targets.\n",
        "# The proper method to use is reshape and takes as arguments the dimensions in which we want to fit the object.\n",
        "targets = targets.reshape(observations,)\n",
        "\n",
        "# Plotting according to the conventional matplotlib.pyplot syntax\n",
        "\n",
        "# Declare the figure\n",
        "fig = plt.figure()\n",
        "\n",
        "# A method allowing us to create the 3D plot\n",
        "ax = fig.add_subplot(111, projection='3d')\n",
        "\n",
        "# Choose the axes.\n",
        "ax.plot(xs, zs, targets)\n",
        "\n",
        "# Set labels\n",
        "ax.set_xlabel('xs')\n",
        "ax.set_ylabel('zs')\n",
        "ax.set_zlabel('Targets')\n",
        "\n",
        "# You can fiddle with the azim parameter to plot the data from different angles. Just change the value of azim=100\n",
        "# to azim = 0 ; azim = 200, or whatever. Check and see what happens.\n",
        "ax.view_init(azim=100)\n",
        "\n",
        "# So far we were just describing the plot. This method actually shows the plot. \n",
        "plt.show()\n",
        "\n",
        "# We reshape the targets back to the shape that they were in before plotting.\n",
        "# This reshaping is a side-effect of the 3D plot. Sorry for that.\n",
        "targets = targets.reshape(observations,1)"
      ],
      "execution_count": 99,
      "outputs": [
        {
          "output_type": "display_data",
          "data": {
            "image/png": "[encoded data removed]",
            "text/plain": [
              "<Figure size 576x396 with 1 Axes>"
            ]
          },
          "metadata": {
            "tags": []
          }
        }
      ]
    },
    {
      "metadata": {
        "id": "2jZR4l6AQkfz",
        "colab_type": "text"
      },
      "cell_type": "markdown",
      "source": [
        "### Initialize variables"
      ]
    },
    {
      "metadata": {
        "id": "pg1UqhL3Qkf0",
        "colab_type": "code",
        "colab": {
          "base_uri": "https://localhost:8080/",
          "height": 68
        },
        "outputId": "de8576c1-7473-44ec-f818-0d37ffa19fad"
      },
      "cell_type": "code",
      "source": [
        "# We will initialize the weights and biases randomly in some small initial range.\n",
        "# init_range is the variable that will measure that.\n",
        "# You can play around with the initial range, but we don't really encourage you to do so.\n",
        "# High initial ranges may prevent the machine learning algorithm from learning.\n",
        "init_range = 0.1\n",
        "\n",
        "# Weights are of size k x m, where k is the number of input variables and m is the number of output variables\n",
        "# In our case, the weights matrix is 2x1 since there are 2 inputs (x and z) and one output (y)\n",
        "weights = np.random.uniform(low=-init_range, high=init_range, size=(2, 1))\n",
        "\n",
        "# Biases are of size 1 since there is only 1 output. The bias is a scalar.\n",
        "biases = np.random.uniform(low=-init_range, high=init_range, size=1)\n",
        "\n",
        "#Print the weights to get a sense of how they were initialized.\n",
        "print (weights)\n",
        "print (biases)"
      ],
      "execution_count": 100,
      "outputs": [
        {
          "output_type": "stream",
          "text": [
            "[[-0.08115206]\n",
            " [-0.02126257]]\n",
            "[-0.00353507]\n"
          ],
          "name": "stdout"
        }
      ]
    },
    {
      "metadata": {
        "id": "Mb6r-Jc_Qkf2",
        "colab_type": "text"
      },
      "cell_type": "markdown",
      "source": [
        "### Set a learning rate"
      ]
    },
    {
      "metadata": {
        "id": "chGYoncJQkf3",
        "colab_type": "code",
        "colab": {}
      },
      "cell_type": "code",
      "source": [
        "# Set some small learning rate (denoted eta in the lecture). \n",
        "# 0.02 is going to work quite well for our example. Once again, you can play around with it.\n",
        "# It is HIGHLY recommended that you play around with it.\n",
        "learning_rate = 0.001"
      ],
      "execution_count": 0,
      "outputs": []
    },
    {
      "metadata": {
        "id": "PjcPwy2RQkf7",
        "colab_type": "text"
      },
      "cell_type": "markdown",
      "source": [
        "### Train the model"
      ]
    },
    {
      "metadata": {
        "scrolled": true,
        "id": "35nBpyiaQkf7",
        "colab_type": "code",
        "colab": {
          "base_uri": "https://localhost:8080/",
          "height": 1717
        },
        "outputId": "9fba1b5a-d268-404a-f7dc-931089ee831f"
      },
      "cell_type": "code",
      "source": [
        "# We iterate over our training dataset 100 times. That works well with a learning rate of 0.02.\n",
        "# The proper number of iterations is something we will talk about later on, but generally\n",
        "# a lower learning rate would need more iterations, while a higher learning rate would need less iterations\n",
        "# keep in mind that a high learning rate may cause the loss to diverge to infinity, instead of converge to 0.\n",
        "for i in range (100):\n",
        "    \n",
        "    # This is the linear model: y = xw + b equation\n",
        "    outputs = np.dot(inputs,weights) + biases\n",
        "    # The deltas are the differences between the outputs and the targets\n",
        "    # Note that deltas here is a vector 1000 x 1\n",
        "    deltas = outputs - targets\n",
        "        \n",
        "    # We are considering the L2-norm loss, but divided by 2, so it is consistent with the lectures.\n",
        "    # Moreover, we further divide it by the number of observations.\n",
        "    # This is simple rescaling by a constant. We explained that this doesn't change the optimization logic,\n",
        "    # as any function holding the basic property of being lower for better results, and higher for worse results\n",
        "    # can be a loss function.\n",
        "    loss = np.sum(deltas ** 2) / 2 / observations\n",
        "    \n",
        "    # We print the loss function value at each step so we can observe whether it is decreasing as desired.\n",
        "    print (loss)\n",
        "    \n",
        "    # Another small trick is to scale the deltas the same way as the loss function\n",
        "    # In this way our learning rate is independent of the number of samples (observations).\n",
        "    # Again, this doesn't change anything in principle, it simply makes it easier to pick a single learning rate\n",
        "    # that can remain the same if we change the number of training samples (observations).\n",
        "    # You can try solving the problem without rescaling to see how that works for you.\n",
        "    deltas_scaled = deltas / observations\n",
        "    \n",
        "    # Finally, we must apply the gradient descent update rules from the relevant lecture.\n",
        "    # The weights are 2x1, learning rate is 1x1 (scalar), inputs are 1000x2, and deltas_scaled are 1000x1\n",
        "    # We must transpose the inputs so that we get an allowed operation.\n",
        "    weights = weights - learning_rate * np.dot(inputs.T,deltas_scaled)\n",
        "    biases = biases - learning_rate * np.sum(deltas_scaled)\n",
        "    \n",
        "    # The weights are updated in a linear algebraic way (a matrix minus another matrix)\n",
        "    # The biases, however, are just a single number here, so we must transform the deltas into a scalar.\n",
        "    # The two lines are both consistent with the gradient descent methodology. "
      ],
      "execution_count": 102,
      "outputs": [
        {
          "output_type": "stream",
          "text": [
            "232.30580205885354\n",
            "217.92508012078937\n",
            "204.48279976144187\n",
            "191.9176207693013\n",
            "180.17221257445183\n",
            "169.1929921485827\n",
            "158.92987903782358\n",
            "149.33606640847353\n",
            "140.3678070588989\n",
            "131.9842134192981\n",
            "124.14707062498016\n",
            "116.82066180857356\n",
            "109.97160481244332\n",
            "103.56869957480555\n",
            "97.58278549182583\n",
            "91.98660810359566\n",
            "86.7546944945084\n",
            "81.86323683839537\n",
            "77.28998355601989\n",
            "73.01413758732735\n",
            "69.01626131337855\n",
            "65.27818769329158\n",
            "61.78293720993416\n",
            "58.51464024466166\n",
            "55.45846452621822\n",
            "52.60054732211578\n",
            "49.92793206248675\n",
            "47.4285091066708\n",
            "45.09096038173601\n",
            "42.904707639835195\n",
            "40.85986409784408\n",
            "38.94718923818933\n",
            "37.15804656422816\n",
            "35.48436411704758\n",
            "33.918597573176605\n",
            "32.45369575450359\n",
            "31.083068392719003\n",
            "29.80055600091133\n",
            "28.600401714576602\n",
            "27.477224973306306\n",
            "26.425996922833185\n",
            "25.442017424979635\n",
            "24.520893570404255\n",
            "23.658519595912527\n",
            "22.85105811451892\n",
            "22.094922572449324\n",
            "21.386760852882016\n",
            "20.72343995146756\n",
            "20.10203165356868\n",
            "19.519799147739985\n",
            "18.97418451424817\n",
            "18.46279703143358\n",
            "17.98340224645295\n",
            "17.533911760437935\n",
            "17.112373681369633\n",
            "16.71696370102272\n",
            "16.345976755185028\n",
            "15.997819229025666\n",
            "15.671001671976683\n",
            "15.364131988822768\n",
            "15.075909075870522\n",
            "14.80511687310369\n",
            "14.550618805132412\n",
            "14.311352585522195\n",
            "14.08632536074928\n",
            "13.874609171582135\n",
            "13.675336711139675\n",
            "13.48769736023329\n",
            "13.310933481867401\n",
            "13.144336957958066\n",
            "12.987245952436496\n",
            "12.839041885939306\n",
            "12.699146608254697\n",
            "12.567019755597792\n",
            "12.442156280633316\n",
            "12.324084143953677\n",
            "12.212362156458509\n",
            "12.106577962771645\n",
            "12.006346156476367\n",
            "11.911306518552303\n",
            "11.821122370960563\n",
            "11.735479037850348\n",
            "11.654082407351902\n",
            "11.57665758738102\n",
            "11.502947649309574\n",
            "11.432712453758743\n",
            "11.365727553146614\n",
            "11.301783165973111\n",
            "11.240683218152837\n",
            "11.182244447013233\n",
            "11.126295563861662\n",
            "11.07267647129309\n",
            "11.021237531659969\n",
            "10.971838883360142\n",
            "10.924349801816879\n",
            "10.878648102229846\n",
            "10.8346195813664\n",
            "10.792157495841291\n",
            "10.751162074499698\n",
            "10.711540062674322\n"
          ],
          "name": "stdout"
        }
      ]
    },
    {
      "metadata": {
        "id": "ujQtqU_zQkf-",
        "colab_type": "text"
      },
      "cell_type": "markdown",
      "source": [
        "### Print weights and biases and see if we have worked correctly."
      ]
    },
    {
      "metadata": {
        "id": "hMy6qLIxQkgA",
        "colab_type": "code",
        "colab": {
          "base_uri": "https://localhost:8080/",
          "height": 51
        },
        "outputId": "14a9c19f-73e0-4beb-bff3-76f3ae0edbca"
      },
      "cell_type": "code",
      "source": [
        "# We print the weights and the biases, so we can see if they have converged to what we wanted.\n",
        "# When declared the targets, following the f(x,z), we knew the weights should be 2 and -3, while the bias: 5.\n",
        "print (weights, biases)\n",
        "\n",
        "# Note that they may be convergING. So more iterations are needed."
      ],
      "execution_count": 103,
      "outputs": [
        {
          "output_type": "stream",
          "text": [
            "[[ 1.9255963 ]\n",
            " [-2.90274962]] [0.47405249]\n"
          ],
          "name": "stdout"
        }
      ]
    },
    {
      "metadata": {
        "id": "a2JMDVSeQkgC",
        "colab_type": "text"
      },
      "cell_type": "markdown",
      "source": [
        "### Plot last outputs vs targets\n",
        "Since they are the last ones at the end of the training, they represent the final model accuracy. <br/>\n",
        "The closer this plot is to a 45 degree line, the closer target and output values are."
      ]
    },
    {
      "metadata": {
        "id": "ggQPlVPhQkgD",
        "colab_type": "code",
        "colab": {
          "base_uri": "https://localhost:8080/",
          "height": 364
        },
        "outputId": "477ddb16-6e07-49db-8113-6920e0a96458"
      },
      "cell_type": "code",
      "source": [
        "# We print the outputs and the targets in order to see if they have a linear relationship.\n",
        "# Again, that's not needed. Moreover, in later lectures, that would not even be possible.\n",
        "plt.plot(outputs,targets)\n",
        "plt.xlabel('outputs')\n",
        "plt.ylabel('targets')\n",
        "plt.show()"
      ],
      "execution_count": 104,
      "outputs": [
        {
          "output_type": "display_data",
          "data": {
            "image/png": "[encoded data removed]",
            "text/plain": [
              "<Figure size 576x396 with 1 Axes>"
            ]
          },
          "metadata": {
            "tags": []
          }
        }
      ]
    }
  ]
}